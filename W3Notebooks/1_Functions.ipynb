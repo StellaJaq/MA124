{
 "cells": [
  {
   "cell_type": "markdown",
   "metadata": {},
   "source": [
    "# Introduction to Functions\n",
    "\n",
    "Functions are a key element of all programming languages. They allow for the modular construction of complex programmes and efficient reuse of code.\n"
   ]
  },
  {
   "cell_type": "markdown",
   "metadata": {},
   "source": [
    "\n",
    "In Python, functions are defined using the `def` keyword. They *optionally* can take inputs known as `arguments` or `parameters`. (We will use both terms.) Functions can *optionally* return a value with the `return` keyword. A Python function looks like:\n",
    "\n",
    "```\n",
    "def function_name(optional function arguments):\n",
    "    body of function with Python statements\n",
    "    return value (optional)\n",
    "```\n",
    "The line starting `def` ends with a colon `:` and the body of the function is indented. \n",
    "\n",
    "One can then **call the function** in some other line of Python code and the function will perform the actions specified in the body of the function. If the function has input parameters, when we call the function these are said to be **passed** to the function.\n",
    "\n",
    "---\n",
    "Let us look at examples:"
   ]
  },
  {
   "cell_type": "code",
   "execution_count": null,
   "metadata": {},
   "outputs": [],
   "source": [
    "# Define a function call print_hello that prints \"Hello\" followed by the input argument\n",
    "# This function does not return a value.\n",
    "def print_hello(name):\n",
    "    print(\"Hello,\", name)"
   ]
  },
  {
   "cell_type": "markdown",
   "metadata": {},
   "source": [
    "(The above cell must be run even though it does not produce any output.)\n",
    "\n",
    "One can then call the function with a value for the input argument. This will be passed to the function and it will perform its computations, in this case the print statement, using that value. "
   ]
  },
  {
   "cell_type": "code",
   "execution_count": null,
   "metadata": {},
   "outputs": [],
   "source": [
    "print_hello(\"Robert\")\n",
    "print_hello(\"Aashi\")\n",
    "print_hello(\"Siri\")"
   ]
  },
  {
   "cell_type": "markdown",
   "metadata": {},
   "source": [
    "It is worth emphasising that once a cell with a function definition has been run (executed), then that function can be used in any subsequent cell. Of course if you restart the kernel, you must rerun the cell with the function definition in order to use the function.\n",
    "\n",
    "---\n",
    "Here is a slightly more realistic example of a function"
   ]
  },
  {
   "cell_type": "code",
   "execution_count": null,
   "metadata": {},
   "outputs": [],
   "source": [
    "# This function computes the polar radius of a Cartesian point (x,y)\n",
    "def radius(x, y):\n",
    "    a = (x**2 + y**2)**0.5\n",
    "    return a"
   ]
  },
  {
   "cell_type": "markdown",
   "metadata": {},
   "source": [
    "We can now call the function radius()"
   ]
  },
  {
   "cell_type": "code",
   "execution_count": null,
   "metadata": {},
   "outputs": [],
   "source": [
    "r = radius(1, 1)\n",
    "print(r)"
   ]
  },
  {
   "cell_type": "code",
   "execution_count": null,
   "metadata": {},
   "outputs": [],
   "source": [
    "r = radius(-2, 1)\n",
    "print(r)"
   ]
  },
  {
   "cell_type": "code",
   "execution_count": null,
   "metadata": {},
   "outputs": [],
   "source": [
    "# or with variables\n",
    "u = -2\n",
    "v = 1\n",
    "\n",
    "r = radius(u, v)\n",
    "print(r)"
   ]
  },
  {
   "cell_type": "markdown",
   "metadata": {},
   "source": [
    "The variable names used to call the function do not have to be the same as those in the definition of the function, and very often they are not. This is consistent with usual mathematical convention, e.g. we define a function $f(x)$ as\n",
    "$$\n",
    "f(x) = 1 - x^2\n",
    "$$\n",
    "but are happy to consider $f(t)$"
   ]
  },
  {
   "cell_type": "markdown",
   "metadata": {},
   "source": [
    "---\n",
    "Return statements can contain expressions. If they do, the expressions are evaluated first and then the result is returned. For example, the previous function could be written\n"
   ]
  },
  {
   "cell_type": "code",
   "execution_count": null,
   "metadata": {},
   "outputs": [],
   "source": [
    "def radius(x, y):\n",
    "    return (x**2 + y**2)**0.5"
   ]
  },
  {
   "cell_type": "code",
   "execution_count": null,
   "metadata": {},
   "outputs": [],
   "source": [
    "r = radius(1, 1)\n",
    "print(r)"
   ]
  },
  {
   "cell_type": "markdown",
   "metadata": {},
   "source": [
    "---\n",
    "In practice the functions we use are of two types: \n",
    "\n",
    "1. Those that compute things very much like mathematical functions, as for the above function radius. The Python function has a direct correspondence with a mathematical expression: $r = \\sqrt{x^2+y^2}$.\n",
    "\n",
    "2. Functions that perform tasks, often very substantial tasks, such as simulating a stochastic ODE or training an artificial neural network. In some programming languages and texts these would be referred to as subroutines or sub-programmes. They can often consume the majority of the computation time of running a program. \n",
    "\n",
    "There is not a rigorous distinction between these, but it is useful to be aware that functions we see and that you will write will generally be of one of these two types. \n",
    "\n"
   ]
  },
  {
   "cell_type": "markdown",
   "metadata": {},
   "source": [
    "---\n",
    "## Further details\n",
    "\n",
    "Functions provide a lot of flexibility and we will not cover the full generality of functions. We will restrict our focus to the essential things you need for this module. After you gain experience, you may want to study properties of functions in more depth."
   ]
  },
  {
   "cell_type": "markdown",
   "metadata": {},
   "source": [
    "### Returning multiple values\n",
    "\n",
    "Functions can return multiple values. Let us first look at a simple example and then discuss it."
   ]
  },
  {
   "cell_type": "code",
   "execution_count": null,
   "metadata": {},
   "outputs": [],
   "source": [
    "# Given a and b this function returns both the sum and difference of a and b. \n",
    "\n",
    "def my_function(a, b):\n",
    "    sum = a + b\n",
    "    diff = a - b\n",
    "    return sum, diff"
   ]
  },
  {
   "cell_type": "code",
   "execution_count": null,
   "metadata": {},
   "outputs": [],
   "source": [
    "s, d = my_function(2,3)\n",
    "print(s,d)"
   ]
  },
  {
   "cell_type": "markdown",
   "metadata": {},
   "source": [
    "This is the typical way we will use function returning multiple values: \n",
    "- we put a comma separated list of variables on the return line *inside* the function. \n",
    "- we put a comma separated list of variables on the left hand side of the `=` when we call the function. \n",
    "\n",
    "However, what you should understand is that the function is returning a tuple, and the values in that tuple are then assigned to variables, in this case $s$ and $d$. \n",
    "\n",
    "One could write this explicitly as in the following code. "
   ]
  },
  {
   "cell_type": "code",
   "execution_count": null,
   "metadata": {},
   "outputs": [],
   "source": [
    "# including () on the return line to make explicit that the a function is returning a tuple. \n",
    "# This is for illustration only. It is not wrong, but it is not generally used.\n",
    "\n",
    "def my_function(a, b):\n",
    "    sum = a + b\n",
    "    diff = a - b\n",
    "    # explicitly return a tuple\n",
    "    return (sum, diff)"
   ]
  },
  {
   "cell_type": "markdown",
   "metadata": {},
   "source": [
    "Now call this function with some values and explicitly assign the result to a tuple."
   ]
  },
  {
   "cell_type": "code",
   "execution_count": null,
   "metadata": {},
   "outputs": [],
   "source": [
    "my_tuple = my_function(2, 3)\n",
    "\n",
    "print(type(my_tuple))\n",
    "print(my_tuple)"
   ]
  },
  {
   "cell_type": "markdown",
   "metadata": {},
   "source": [
    "Recall how we can extract the values from a tuple."
   ]
  },
  {
   "cell_type": "code",
   "execution_count": null,
   "metadata": {},
   "outputs": [],
   "source": [
    "s, d = my_tuple\n",
    "print(s, d)"
   ]
  },
  {
   "cell_type": "markdown",
   "metadata": {},
   "source": [
    "---\n",
    "To summarise: functions returning multiple values are actually returning a single tuple. In practice we write a comma separated list, e.g.\n",
    "```\n",
    "s, d = my_function(2,3)\n",
    "```\n",
    "You should understand that more precisely the function is returning a single tuple and we are extracting values from that tuple. Separating those two steps looks like:\n",
    "```\n",
    "my_tuple = my_function(2,3)\n",
    "s, d = my_tuple\n",
    "```"
   ]
  },
  {
   "cell_type": "markdown",
   "metadata": {},
   "source": [
    "---\n",
    "> Pro tip: you may want to call a function that returns multiple values, but you do not need all the values that are returned. You can assign these to `_` (the underline symbol). For example, suppose that a function `box_size()` returns three values `height, width, depth`, but you only need the width. You can use: `_, width, _ = box_size()`."
   ]
  },
  {
   "cell_type": "markdown",
   "metadata": {},
   "source": [
    "---\n",
    "### Default arguments\n",
    "\n",
    "Functions can have default values for arguments. Default values will be assigned to arguments if no argument value is passed during function call. The default value is specified in the function definition by using assignment `=` operator in the input argument list. Once there is a default argument, all other input arguments to its right must also have default values. \n",
    "\n",
    "While we will not write functions with default arguments, you will be calling functions with default values and so understanding the syntax is important. There is nothing to memorise here since as with many things in Python, this will come naturally.\n",
    "\n",
    "### Keyword arguments\n",
    "\n",
    "When we call a function with some values, these values get assigned to the arguments according to their position.\n",
    "However, Python also allows functions to be called using keyword arguments. When a function is called in this way, the order (position) of the arguments can be changed. This is particularly advantageous if a function has a large number of arguments. You do not need to remember or look up the precise order of the arguments. This is easy in practice, just note that keyword arguments must follow any positional arguments.\n",
    "\n",
    "The following code illustrates both default arguments and keyword arguments. "
   ]
  },
  {
   "cell_type": "code",
   "execution_count": null,
   "metadata": {},
   "outputs": [],
   "source": [
    "# This function returns y = slope * x + intercept\n",
    "# where slope and intercept have default values\n",
    "\n",
    "def my_line(x, slope=1, intercept=0):\n",
    "    y = slope * x + intercept\n",
    "    return y"
   ]
  },
  {
   "cell_type": "markdown",
   "metadata": {},
   "source": [
    "Call with three positional arguments."
   ]
  },
  {
   "cell_type": "code",
   "execution_count": null,
   "metadata": {},
   "outputs": [],
   "source": [
    "y = my_line(3, 2, 1)\n",
    "print(\"y =\", y)"
   ]
  },
  {
   "cell_type": "markdown",
   "metadata": {},
   "source": [
    "Call with two positional arguments. The third argument, intercept, is missing so it takes its default value."
   ]
  },
  {
   "cell_type": "code",
   "execution_count": null,
   "metadata": {},
   "outputs": [],
   "source": [
    "y = my_line(3, 2)\n",
    "print(\"y =\", y)"
   ]
  },
  {
   "cell_type": "markdown",
   "metadata": {},
   "source": [
    "Before running the next cell, think about what the output will be. Then run the cell to check your understanding."
   ]
  },
  {
   "cell_type": "code",
   "execution_count": null,
   "metadata": {},
   "outputs": [],
   "source": [
    "y = my_line(3)\n",
    "print(\"y =\", y)"
   ]
  },
  {
   "cell_type": "markdown",
   "metadata": {},
   "source": [
    "Call with one positional and one keyword argument. Before running the cell, think about what the output will be."
   ]
  },
  {
   "cell_type": "code",
   "execution_count": null,
   "metadata": {},
   "outputs": [],
   "source": [
    "y = my_line(3, intercept=4)\n",
    "print(\"y =\", y)"
   ]
  },
  {
   "cell_type": "markdown",
   "metadata": {},
   "source": [
    "Keyword arguments can be in any order, as long as they are after positional arguments"
   ]
  },
  {
   "cell_type": "code",
   "execution_count": null,
   "metadata": {},
   "outputs": [],
   "source": [
    "y = my_line(3, intercept=4, slope=-1)\n",
    "print(\"y =\", y)"
   ]
  },
  {
   "cell_type": "markdown",
   "metadata": {},
   "source": [
    "**Exercise:** Edit the previous cell to call with slope a positional argument, i.e. delete `slope = ` from the code. You will see the error produced. You are told explicitly that you cannot put any positional arguments following keyword arguments. Put this back as it was and edit the cell so that the argument x is passed as a keyword argument and put it at the end of the argument list. Generally keywords will be more descriptive than `x`. \n",
    "\n",
    "For many library functions that we will call later, we will use a mixture of positional and keyword arguments, with many arguments taking their default values. While Python makes this very easy and natural, it is helpful to have a clear understanding of the syntax for default arguments and keyword arguments."
   ]
  },
  {
   "cell_type": "markdown",
   "metadata": {},
   "source": [
    "---\n",
    "### Local scope\n",
    "\n",
    "A variable created inside a function can only be used inside that function. It is a **local variable** to that function only and is said to have **local scope**. Once the function terminates, all local variables are cleared. "
   ]
  },
  {
   "cell_type": "code",
   "execution_count": null,
   "metadata": {},
   "outputs": [],
   "source": [
    "def radius(x, y):\n",
    "    a = (x**2 + y**2)**0.5\n",
    "    print(\"inside the function a is\", a)\n",
    "    return a"
   ]
  },
  {
   "cell_type": "code",
   "execution_count": null,
   "metadata": {},
   "outputs": [],
   "source": [
    "x = 5\n",
    "y = 2\n",
    "r = radius(x, y)\n",
    "print(\"r is\", r)\n",
    "\n",
    "# a is not known outside the function so the statement below will not work\n",
    "# print(\"outside the function a is\", a) "
   ]
  },
  {
   "cell_type": "markdown",
   "metadata": {},
   "source": [
    "**Exercise:** Uncomment the print statement in the above cell and rerun it to see that a is not known outside of the function."
   ]
  },
  {
   "cell_type": "markdown",
   "metadata": {},
   "source": [
    "---\n",
    "The next thing to understand is that a variable created in a function may have the same name as a variable outside the function. **These are treated as distinct variables**. Setting a value to a local variable inside a function has no effect on a variable with the same name with scope outside of the function. "
   ]
  },
  {
   "cell_type": "code",
   "execution_count": null,
   "metadata": {},
   "outputs": [],
   "source": [
    "def radius(x, y):\n",
    "    a = (x**2 + y**2)**0.5\n",
    "    print(\"inside the function a is\", a) \n",
    "    return a"
   ]
  },
  {
   "cell_type": "code",
   "execution_count": null,
   "metadata": {},
   "outputs": [],
   "source": [
    "# variable a outside of the function\n",
    "a = 13\n",
    "\n",
    "x = 5\n",
    "y = 2\n",
    "r = radius(x,y)\n",
    "print(\"outside the function\")\n",
    "print(\"r is\", r)\n",
    "print(\"a is\", a)"
   ]
  },
  {
   "cell_type": "markdown",
   "metadata": {},
   "source": [
    "---\n",
    "**It is essential that you understand that variables created inside a function have local scope. They are local to that function only and once the function terminates, those variables not longer exist and the values are lost. Even if the local variable name is the same as a variable name elsewhere, they are in fact two distinct variables.**\n",
    "\n",
    "\n",
    "This is the only aspect of **variable scope** that it is essential for you to understand at this point. This \n",
    "behaviour is also the same for all scientific programming languages that I am aware of. \n",
    "\n",
    "That's the easy part. The full story is very much more complicated and is also language dependent.\n",
    "\n",
    "\n",
    "---\n",
    "### Global scope\n",
    "\n",
    "A variable created in the main body of a Python code is a *global variable*. It has **global scope** and can be accessed both inside or outside of functions."
   ]
  },
  {
   "cell_type": "code",
   "execution_count": null,
   "metadata": {},
   "outputs": [],
   "source": [
    "# define a function with no arguments and no return value. It only prints the value of globe\n",
    "def I_know_globe():\n",
    "    print(\"I know the value of globe is\", globe)"
   ]
  },
  {
   "cell_type": "markdown",
   "metadata": {},
   "source": [
    "Note that unlike the case above where a local variable `a` was defined inside the function, here the variable `globe` is not defined inside the function. Now if we set a value of `globe` outside of the function, it is a global variable and so it is known inside `I_know_globe()`"
   ]
  },
  {
   "cell_type": "code",
   "execution_count": null,
   "metadata": {},
   "outputs": [],
   "source": [
    "globe = 100\n",
    "I_know_globe()"
   ]
  },
  {
   "cell_type": "markdown",
   "metadata": {},
   "source": [
    "---\n",
    "For all code we write in this module we will never use a global variable within a function. All variables appearing in functions will be in the argument list or created within the function.\n",
    "\n",
    "Further details of variable scope and how arguments are passed to functions in Python is not necessary for this module. However, these details are important to understand if you pursue advanced computation in Python or any other language. The clearest simple explanation I have found is [here](https://www.python-course.eu/passing_arguments.php).\n"
   ]
  },
  {
   "cell_type": "markdown",
   "metadata": {},
   "source": [
    "---\n",
    "### Multiple return statements\n",
    "\n",
    "Functions can contain any number of return statements, as in this example"
   ]
  },
  {
   "cell_type": "code",
   "execution_count": null,
   "metadata": {},
   "outputs": [],
   "source": [
    "def my_factorial(n):\n",
    "    if n == 0:\n",
    "        return 1\n",
    "    else:\n",
    "        prod = 1\n",
    "        for k in range(1,n+1):\n",
    "            prod *= k\n",
    "        return prod"
   ]
  },
  {
   "cell_type": "code",
   "execution_count": null,
   "metadata": {},
   "outputs": [],
   "source": [
    "print(my_factorial(0))\n",
    "print(my_factorial(3))"
   ]
  },
  {
   "cell_type": "markdown",
   "metadata": {},
   "source": [
    "This example is only meant to illustrate multiple return statements in a function. The function itself is not very robust in that it assumes you have called it with a non-negative integer. \n",
    "\n",
    "Many people consider it poor programming practice to have many return statements in a function (some would argue that there should be at most one). This will not be an issue for us. You can read online debates on this point if you are interested."
   ]
  },
  {
   "cell_type": "markdown",
   "metadata": {},
   "source": [
    "---\n",
    "## Docstring\n",
    "\n",
    "As we know, in Python comments begin with a hash `#` and are added to code to make it easier for a reader to understand what a particular piece of code is doing.\n",
    "\n",
    "In Python, **docstrings** provide another way to add descriptive information to a function. These are most easily explained via example."
   ]
  },
  {
   "cell_type": "code",
   "execution_count": null,
   "metadata": {},
   "outputs": [],
   "source": [
    "def radius(x, y):\n",
    "    '''Returns the distance from the origin of a point (x,y).'''\n",
    "    a = (x**2 + y**2)**0.5\n",
    "    print(\"inside the function a is\", a) \n",
    "    return a"
   ]
  },
  {
   "cell_type": "markdown",
   "metadata": {},
   "source": [
    "The first line inside the function is the docstring. It is contained in triple quotes (either triple single quotes or triple double quotes). In this case it is a simple, one-line description of the function stating what is returned. The difference between a docstring and a comment is that the docstring is accessible outside the function, essentially as a help message. You should think of docstrings as providing explanations to the user so that a function can be understood and used without looking at the function code itself. \n",
    "\n",
    "In JupyterLab you can access the help message either by typing the name of the function and `shift tab`, or by typing the name of the function followed by `?`. Run the cell below, but also try using the `shift tab` method."
   ]
  },
  {
   "cell_type": "code",
   "execution_count": null,
   "metadata": {},
   "outputs": [],
   "source": [
    "radius?"
   ]
  },
  {
   "cell_type": "markdown",
   "metadata": {},
   "source": [
    "We will not discuss further details of docstrings. It is important that you recognise a docstring when you see one, either in a piece of code, or more likely when you seek help on a function you are trying to use. \n",
    "\n",
    "It is good programming practice to provide brief descriptions of all functions. The basic information to provide is what the function does, what its input arguments are and what it returns. You can provide this information with a few comment lines or a doc string. "
   ]
  },
  {
   "cell_type": "markdown",
   "metadata": {},
   "source": [
    "---\n",
    "\n",
    "# Review and further study\n",
    "\n",
    "We covered a lot of material above, and there are a lot of details about functions to eventually absorb. However, basic writing and calling functions is not difficult in Python. Almost all that you will need to know to write functions is covered by the exercises below, plus what you learn from the NumPy notebook. \n",
    "\n",
    "The [w3schools page on functions](https://www.w3schools.com/python/python_functions.asp) covers much the same material as above (plus a little more). We recommend it for reinforcement after attempting the exercises below.\n",
    "\n",
    "Scope is a secondary concept as far as we are concerned. The more you understand the better, but do not get hung up on it. There is a [w3schools page on scope](https://www.w3schools.com/python/python_scope.asp).\n"
   ]
  },
  {
   "cell_type": "markdown",
   "metadata": {},
   "source": [
    "---\n",
    "# Exercises\n",
    "\n",
    "As always, for each question first create a new code cell below the question to write your answer. If you are not told to use a specific function name, the names you give the functions you write are your choice. \n",
    "\n",
    "---\n",
    "\n",
    "1. Write a function that takes three arguments, $a$, $b$ and $c$, and returns $b^2 - 4ac$. Give the function a name you feel is appropriate. Call the function for a few values of $a$, $b$ and $c$, and print the result. "
   ]
  },
  {
   "cell_type": "markdown",
   "metadata": {},
   "source": [
    "---\n",
    "2. Write a function `normalise` that takes two arguments $a$ and $b$ and returns two values $\\frac{a}{(a^2+b^2)^{1/2}}$ and $\\frac{b}{(a^2+b^2)^{1/2}}.$ (In real life you would want to check that $a^2+b^2 \\ne 0$, but you do not need to do this in this exercise.) \n",
    "\n",
    "    Call the functions and print the result. Specifically, after defining the function test it with the following \n",
    "\n",
    "```\n",
    "d1, d2 = normalise(3 ,4)\n",
    "print(d1, d2)\n",
    "print(type(d1), type(d2))\n",
    "print(d1**2+d2**2)\n",
    "print()\n",
    "\n",
    "d = normalise(3, 4) \n",
    "print(d)\n",
    "print(type(d))\n",
    "print(d[0]**2 + d[1]**2) \n",
    "```\n",
    "\n",
    "Make sure you understand the output. While we will typically use the first form, you should understand the second form."
   ]
  },
  {
   "cell_type": "markdown",
   "metadata": {},
   "source": [
    "---\n",
    "3. Write a function that takes three arguments, $x$, $y$, $z$ and returns $|x| + |y| + |z|$ and $(x^2 + y^2 + z^2)^{1/2}$ and the maximum of $|x|$,  $|y|$, and $|z|$.\n",
    "\n",
    "    Use `if` statements to compute the last case. Later we will use efficient Python functions to compute these if needed. This is only for practice writing functions and using if statements.\n",
    "\n",
    "    Call the function with some simple inputs and print the resulting values. \n",
    "    \n",
    "    Then call the function only saving the middle output to a variable `L2`. (Ignore the first and third return values.)\n",
    "    \n",
    "(Side note: the three returned quantities are all measures of distance, known formally as norms. You will recognise the second as the usual Euclidean distance between the origin and $(x,y,z)$. This is also called the 2-norm.)"
   ]
  },
  {
   "cell_type": "markdown",
   "metadata": {},
   "source": [
    "---\n",
    "# Answers and Comments\n",
    "---\n",
    "\n",
    "Expand cells (click on left margin) to see answers and comments on selected exercises.\n"
   ]
  },
  {
   "cell_type": "markdown",
   "metadata": {},
   "source": [
    "Q1 answer"
   ]
  },
  {
   "cell_type": "code",
   "execution_count": null,
   "metadata": {
    "jupyter": {
     "source_hidden": true
    }
   },
   "outputs": [],
   "source": [
    "# Q1 answer\n",
    "\n",
    "# The name was your choice. Discriminant is rather long, but would work. \n",
    "# Delta would be another natural choice.\n",
    "\n",
    "def Discrim(a, b, c):\n",
    "    return b**2 - 4*a*c\n",
    "\n",
    "a = 1\n",
    "b = 4\n",
    "c = 4\n",
    "print(Discrim(a, b, c))\n",
    "\n",
    "a = -1\n",
    "b = 4\n",
    "c = 4\n",
    "print(Discrim(a, b, c))\n",
    "\n",
    "# note that while the function arguments are called a, b and c, we do not need to \n",
    "# call the function with variables call a, b and c. We can call with numbers\n",
    "\n",
    "print(Discrim(4, 1, 1))\n",
    "\n",
    "# or call with other variables.\n",
    "x = 4\n",
    "y = 1\n",
    "z = 1\n",
    "print(Discrim(x, y, z))"
   ]
  },
  {
   "cell_type": "markdown",
   "metadata": {},
   "source": [
    "Q2 answer"
   ]
  },
  {
   "cell_type": "code",
   "execution_count": null,
   "metadata": {
    "jupyter": {
     "source_hidden": true
    }
   },
   "outputs": [],
   "source": [
    "# Q2 answer\n",
    "\n",
    "def normalise(a, b):\n",
    "    denom = (a**2+b**2)**0.5\n",
    "    return a/denom, b/denom\n",
    "\n",
    "d1, d2 = normalise(3 ,4)\n",
    "print(d1, d2)\n",
    "print(type(d1), type(d2))\n",
    "print(d1**2+d2**2)\n",
    "print()\n",
    "\n",
    "d = normalise(3, 4) \n",
    "print(d)\n",
    "print(type(d))\n",
    "print(d[0]**2 + d[1]**2) \n",
    "\n",
    "# We have normalised so that d**2 + d**2 = 1 always."
   ]
  },
  {
   "cell_type": "markdown",
   "metadata": {},
   "source": [
    "Q3 answer"
   ]
  },
  {
   "cell_type": "code",
   "execution_count": null,
   "metadata": {
    "jupyter": {
     "source_hidden": true
    }
   },
   "outputs": [],
   "source": [
    "# Q3 answer\n",
    "\n",
    "# I use my_norm as the function name because I know that this function\n",
    "# is computing norms. The reason for the variable name norm_inf will\n",
    "# be clear to you in the future. \n",
    "\n",
    "# In this example comments just after the function definition provide \n",
    "# a short description the function. \n",
    "\n",
    "# There are many ways to compute the third case with if statements. \n",
    "# As long as what you did produces the right result, then it is correct.\n",
    "# You should understand why the method below is correct. It is likely\n",
    "# simpler than what you did.\n",
    "\n",
    "def my_norm(x, y, z):\n",
    "    # Input arguments are three components of a vector,\n",
    "    # Returned are the 1-norm, 2-norm, and infinity norm of the vector.\n",
    "    \n",
    "    norm1 = abs(x) + abs(y) + abs(z)\n",
    "    norm2 = (x**2 + y**2 + z**2)**0.5\n",
    "    \n",
    "    norm_inf = abs(x)\n",
    "    if norm_inf < abs(y):\n",
    "        norm_inf = abs(y)\n",
    "    if norm_inf < abs(z):\n",
    "        norm_inf = abs(z)\n",
    "    return norm1, norm2, norm_inf\n",
    "\n",
    "s = 1\n",
    "v = 3\n",
    "w = -1\n",
    "print(my_norm(s,v,w))\n",
    "\n",
    "_, L2, _ = my_norm(s,v,w)\n",
    "print(L2)"
   ]
  },
  {
   "cell_type": "code",
   "execution_count": null,
   "metadata": {},
   "outputs": [],
   "source": []
  }
 ],
 "metadata": {
  "kernelspec": {
   "display_name": "Python 3",
   "language": "python",
   "name": "python3"
  },
  "language_info": {
   "codemirror_mode": {
    "name": "ipython",
    "version": 3
   },
   "file_extension": ".py",
   "mimetype": "text/x-python",
   "name": "python",
   "nbconvert_exporter": "python",
   "pygments_lexer": "ipython3",
   "version": "3.8.5"
  }
 },
 "nbformat": 4,
 "nbformat_minor": 4
}
