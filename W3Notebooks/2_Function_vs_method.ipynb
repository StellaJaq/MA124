{
 "cells": [
  {
   "cell_type": "markdown",
   "metadata": {},
   "source": [
    "# Function vs Method\n",
    "\n",
    "You will soon realise that for many of the library \"functions\" that we call, the documentation refers to *methods* and not *functions*. You will also notice a `.` in the name. For our purposes the distinction between methods and functions can be ignored. If something acts like a function, then treat it like a function and you will be fine. The important thing is to be able to call correctly the function/method to perform the task you need. \n",
    "\n",
    "Put simply\n",
    "\n",
    "> A method is like a function, except that it is attached to an object. \n",
    "\n",
    "The remainder of the material in this notebook is optional, but recommended. Maybe come back later if you are short on time now. It also might make more sense later.\n",
    "\n",
    "---\n",
    "\n",
    "You do not need to know what classes, objects and methods are for MA124, but this short notebook will give you some flavour of the distinction between methods and functions, and hopefully help you to better understand the `.` notation and what you read in the documentation of the various libraries.\n",
    "\n",
    "The material below has been modified from the [Data Flair](https://data-flair.training/blogs/python-method-and-function/) web page that explains the distinction between *methods* and *functions*.\n",
    "\n",
    "---\n",
    "\n",
    "## Functions\n",
    "\n",
    "These are stand-alone pieces of code that can be defined to accept whatever input the programmer decides and return whatever values the programmer decides. We have seen examples such as"
   ]
  },
  {
   "cell_type": "code",
   "execution_count": null,
   "metadata": {},
   "outputs": [],
   "source": [
    "# user defined function\n",
    "def add(a,b):\n",
    "    return a+b \n",
    "\n",
    "a = 3\n",
    "b = -2\n",
    "print(add(1,1))"
   ]
  },
  {
   "cell_type": "code",
   "execution_count": null,
   "metadata": {},
   "outputs": [],
   "source": [
    "# built-in functions\n",
    "\n",
    "print(max(a,b))\n",
    "print(abs(a),abs(b))\n",
    "print(float(a),b)"
   ]
  },
  {
   "cell_type": "markdown",
   "metadata": {},
   "source": [
    "## Methods\n",
    "\n",
    "While we are not going to explain Python classes in detail, we will use a simple example to illustrate what methods are. It is not necessary to understand every aspect of this to understand the basic distinction between methods and functions.\n",
    "\n",
    "\n",
    "\n",
    "We define a class called *vehicle* as follows"
   ]
  },
  {
   "cell_type": "code",
   "execution_count": null,
   "metadata": {},
   "outputs": [],
   "source": [
    "class vehicle:\n",
    "    def __init__(self,color):\n",
    "        self.color=color\n",
    "    def showcolor(self):\n",
    "        print(\"I am\", self.color)\n",
    "    def changecolor(self,color):\n",
    "        self.color=color"
   ]
  },
  {
   "cell_type": "markdown",
   "metadata": {},
   "source": [
    "You will that inside the *vehicle class* are lines with the keyword `def` that look just like function definitions. **These are methods**. The methods are associated with the class.  \n",
    "\n",
    "Below is how you could then use this class to create two objects *car* and *lorry* and then call the methods associated with these objects. "
   ]
  },
  {
   "cell_type": "code",
   "execution_count": null,
   "metadata": {},
   "outputs": [],
   "source": [
    "car=vehicle('black')\n",
    "car.showcolor()"
   ]
  },
  {
   "cell_type": "code",
   "execution_count": null,
   "metadata": {},
   "outputs": [],
   "source": [
    "lorry=vehicle('white')\n",
    "lorry.showcolor()"
   ]
  },
  {
   "cell_type": "code",
   "execution_count": null,
   "metadata": {},
   "outputs": [],
   "source": [
    "car.changecolor('red')\n",
    "car.showcolor()"
   ]
  },
  {
   "cell_type": "markdown",
   "metadata": {},
   "source": [
    "Note that the syntax to call a method is `object.method(arguments)`. You surely have observed the `.` already. \n",
    "\n",
    "\n",
    "The key difference between calling a method and calling a function is that methods have access to the data within the object, in this example the color of the vehicle. \n",
    "\n",
    "---\n",
    "\n",
    "The essential distinction between methods and functions is thus:\n",
    "\n",
    "- A method is called on an object. It can access and alter the data within it.\n",
    "\n",
    "- A function is not tied to an object and can be called more generically. Python functions usually only operate on input data and local (internal) variables within the function. Once a function terminates, all local variables are cleared. \n",
    "\n",
    "---"
   ]
  },
  {
   "cell_type": "code",
   "execution_count": null,
   "metadata": {},
   "outputs": [],
   "source": []
  }
 ],
 "metadata": {
  "kernelspec": {
   "display_name": "Python 3",
   "language": "python",
   "name": "python3"
  },
  "language_info": {
   "codemirror_mode": {
    "name": "ipython",
    "version": 3
   },
   "file_extension": ".py",
   "mimetype": "text/x-python",
   "name": "python",
   "nbconvert_exporter": "python",
   "pygments_lexer": "ipython3",
   "version": "3.8.5"
  }
 },
 "nbformat": 4,
 "nbformat_minor": 4
}
