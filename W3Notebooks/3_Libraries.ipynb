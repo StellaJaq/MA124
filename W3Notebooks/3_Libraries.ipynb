{
 "cells": [
  {
   "cell_type": "markdown",
   "metadata": {},
   "source": [
    "# Libraries\n",
    "\n",
    "The main way we will use functions is not by writing our own, but by calling functions from one of the standard libraries. One of the great strengths of Python is the very large number of libraries provided by the community. \n",
    "\n",
    "Three libraries, **NumPy**, **Matplotlib** and **SciPy**, form the backbone of mathematical and scientific computing in Python.\n",
    "\n",
    "- [Numpy](https://numpy.org/): numerical computing with powerful numerical arrays objects, and routines to manipulate them. \n",
    "- [Matplotlib](https://matplotlib.org/): a comprehensive library for creating static, animated, and interactive visualisations.\n",
    "- [SciPy](https://www.scipy.org/): high-level numerical routines. Optimisation, regression, interpolation, etc.\n",
    "\n",
    "---\n",
    "\n",
    "## Importing Libraries\n",
    "\n",
    "To use these libraries, we must first import them. "
   ]
  },
  {
   "cell_type": "code",
   "execution_count": null,
   "metadata": {},
   "outputs": [],
   "source": [
    "import numpy               # import the numpy library "
   ]
  },
  {
   "cell_type": "markdown",
   "metadata": {},
   "source": [
    "Functions in the library then become available via `numpy.function_name()`"
   ]
  },
  {
   "cell_type": "code",
   "execution_count": null,
   "metadata": {},
   "outputs": [],
   "source": [
    "print(\"pi is\", numpy.pi)                             # numpy also has an accurate value of pi\n",
    "print(\"cos(pi) is\", numpy.cos(numpy.pi))             # calls the numpy cos function\n",
    "print(\"arctan(1)/pi is\", numpy.arctan(1.0)/numpy.pi) # call the numpy arctan function"
   ]
  },
  {
   "cell_type": "markdown",
   "metadata": {},
   "source": [
    "In practice, we always alias `numpy` to the shorter `np` as follows"
   ]
  },
  {
   "cell_type": "code",
   "execution_count": null,
   "metadata": {},
   "outputs": [],
   "source": [
    "import numpy as np         # import the numpy library and alias it to np (shorter than numpy)"
   ]
  },
  {
   "cell_type": "code",
   "execution_count": null,
   "metadata": {},
   "outputs": [],
   "source": [
    "# The above then shortens to:\n",
    "print(\"pi is\", np.pi)                \n",
    "print(\"cos(pi) is\", np.cos(np.pi))        \n",
    "print(\"arctan(1)/pi is\", np.arctan(1.0)/np.pi) "
   ]
  },
  {
   "cell_type": "markdown",
   "metadata": {},
   "source": [
    "---\n",
    "It is possible to import specific functions from a module\n",
    "\n",
    "```\n",
    "from numpy import pi, cos\n",
    "```\n",
    "\n",
    "Then the constant `pi` and the cosine function can be referred to without the `np.`. "
   ]
  },
  {
   "cell_type": "code",
   "execution_count": null,
   "metadata": {},
   "outputs": [],
   "source": [
    "from numpy import pi, cos\n",
    "\n",
    "print(pi)             \n",
    "print(cos(pi)) "
   ]
  },
  {
   "cell_type": "markdown",
   "metadata": {},
   "source": [
    "There are pros and cons to doing this. If one had a programme that made a lot of use of *pi* and *cos*, then this would probably be recommended. It is also the case that *pi* and *cos* are not likely to be confused with some other quantities. For all the examples in MA124 we will stick to `np.pi`, etc.\n",
    "\n",
    "However, we will be using the `from library import something` construction, as explained in later weeks. \n",
    "\n",
    "---\n",
    "Final note, the terms **Modules**, **Packages** and **Libraries** all refer to collections of functions, and possibly other structures, designed to perform a set of related tasks. If you are interested, the difference between the three is compactly explained [here](https://www.geeksforgeeks.org/what-is-the-difference-between-pythons-module-package-and-library/).\n",
    "\n",
    "---\n",
    "\n",
    "# Exercise\n",
    "\n",
    "---\n",
    "\n",
    "Insert a cell below. Import the numpy library as np and run that cell. Then inset another cell below that and type `np.cos` and `shift tab` to view the docstring on this function. Guess some other functions and see if you can get docstring information on them."
   ]
  },
  {
   "cell_type": "code",
   "execution_count": null,
   "metadata": {},
   "outputs": [],
   "source": []
  }
 ],
 "metadata": {
  "kernelspec": {
   "display_name": "Python 3",
   "language": "python",
   "name": "python3"
  },
  "language_info": {
   "codemirror_mode": {
    "name": "ipython",
    "version": 3
   },
   "file_extension": ".py",
   "mimetype": "text/x-python",
   "name": "python",
   "nbconvert_exporter": "python",
   "pygments_lexer": "ipython3",
   "version": "3.8.5"
  }
 },
 "nbformat": 4,
 "nbformat_minor": 4
}
