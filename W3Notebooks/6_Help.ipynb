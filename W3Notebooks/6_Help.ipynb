{
 "cells": [
  {
   "cell_type": "markdown",
   "metadata": {},
   "source": [
    "# Help!\n",
    "\n",
    "This short notebook briefly addresses resolving coding errors and getting further help\n",
    "- First we present a number of typical scenarios that cause confusion\n",
    "- Next we address how to find help\n",
    "---\n",
    "\n"
   ]
  },
  {
   "cell_type": "markdown",
   "metadata": {},
   "source": [
    "## Common syntax errors\n",
    "\n",
    "Below are cells with errors that you are asked to fix. When you are finished, you should be able to run all cells in this notebook without error. \n",
    "\n",
    "\n",
    "The import statements below is correct. Don't change this, just run the cell"
   ]
  },
  {
   "cell_type": "code",
   "execution_count": 1,
   "metadata": {},
   "outputs": [],
   "source": [
    "import numpy as np"
   ]
  },
  {
   "cell_type": "markdown",
   "metadata": {},
   "source": [
    "---\n",
    "Run the cell below. Edit the code so that the cell runs."
   ]
  },
  {
   "cell_type": "code",
   "execution_count": 2,
   "metadata": {},
   "outputs": [
    {
     "ename": "SyntaxError",
     "evalue": "invalid syntax (<ipython-input-2-d72cbed557d6>, line 4)",
     "output_type": "error",
     "traceback": [
      "\u001b[0;36m  File \u001b[0;32m\"<ipython-input-2-d72cbed557d6>\"\u001b[0;36m, line \u001b[0;32m4\u001b[0m\n\u001b[0;31m    else:\u001b[0m\n\u001b[0m    ^\u001b[0m\n\u001b[0;31mSyntaxError\u001b[0m\u001b[0;31m:\u001b[0m invalid syntax\n"
     ]
    }
   ],
   "source": [
    "for i in range(4):\n",
    "    if i < 1:\n",
    "        print(2*i\n",
    "    else:\n",
    "        print(i/2)"
   ]
  },
  {
   "cell_type": "markdown",
   "metadata": {},
   "source": [
    "This is a common error. Notice that the error indicated a line different where the error actually is. Get used to this and be prepared to look in the code above where the error is indicated.\n",
    "\n",
    "Before you leave this example, remove the colon `:` from the for loop and observed the error that occurs. Then put the colon back so that the cell will run correctly. (Leaving out the `:` is a common error, but it is usually noticed immediately when Jupyter does not indent the following line.)"
   ]
  },
  {
   "cell_type": "markdown",
   "metadata": {},
   "source": [
    "---\n",
    "Run the cell below. "
   ]
  },
  {
   "cell_type": "code",
   "execution_count": null,
   "metadata": {},
   "outputs": [],
   "source": [
    "A = np.ones(4)\n",
    "B = np.zero(4)"
   ]
  },
  {
   "cell_type": "markdown",
   "metadata": {},
   "source": [
    "The error message \"module 'numpy' has no attribute 'zero'\", means that there is nothing in numpy called zero. This makes this mistake easy to identify the error. Misremembering or mistyping function names is common. Fix the code so that the cell runs.\n",
    "\n",
    "---"
   ]
  },
  {
   "cell_type": "code",
   "execution_count": null,
   "metadata": {},
   "outputs": [],
   "source": [
    "run this code cell. What is wrong here? (text vs code)"
   ]
  },
  {
   "cell_type": "markdown",
   "metadata": {},
   "source": [
    "---\n",
    "Run the cell below. Then fix it."
   ]
  },
  {
   "cell_type": "code",
   "execution_count": null,
   "metadata": {},
   "outputs": [],
   "source": [
    "A = np.zeros(2,3)"
   ]
  },
  {
   "cell_type": "markdown",
   "metadata": {},
   "source": [
    "This one is harder because the error message does not tell you so clearly what is wrong. We have warned you about this one before (see **warning** in the NumPy notebook). Get used to spotting this error and fixing it. You will make fewer mistakes if you use the keyword argument form (as in the cell below, once you fix that cell).\n",
    "\n",
    "---\n",
    "Run the cell below. Then fix it."
   ]
  },
  {
   "cell_type": "code",
   "execution_count": null,
   "metadata": {},
   "outputs": [],
   "source": [
    "A = np.zeros(shape(2,3))"
   ]
  },
  {
   "cell_type": "markdown",
   "metadata": {},
   "source": [
    "How do you use the keyword argument? (As the code is now, Python thinks `shape` should be a function or something that it does not know.)\n",
    "\n",
    "---\n",
    "Run the cell below. Then fix it."
   ]
  },
  {
   "cell_type": "code",
   "execution_count": null,
   "metadata": {},
   "outputs": [],
   "source": [
    "for j in range(3):\n",
    "    for k in range(2):\n",
    "        print(A[j,k])\n",
    "        "
   ]
  },
  {
   "cell_type": "markdown",
   "metadata": {},
   "source": [
    "Thes error messages for these kinds of indexing errors make them easy to identify.\n",
    "\n",
    "---\n",
    "Run the cell below. Then fix it."
   ]
  },
  {
   "cell_type": "code",
   "execution_count": 6,
   "metadata": {},
   "outputs": [
    {
     "data": {
      "image/png": "[encoded data removed]",
      "text/plain": [
       "<Figure size 432x288 with 1 Axes>"
      ]
     },
     "metadata": {
      "needs_background": "light"
     },
     "output_type": "display_data"
    }
   ],
   "source": [
    "import matplotlib.pyplot as pit\n",
    "\n",
    "x = np.linspace(0,2*np.pi,101)\n",
    "y = np.sin(x)\n",
    "pit.plot(x,y)\n",
    "pit.show()"
   ]
  },
  {
   "cell_type": "markdown",
   "metadata": {},
   "source": [
    "---\n",
    "The above were largely syntactical errors. A different kind of mistake to avoid is the following.\n",
    "\n",
    "- Go back to the cell above and change y to z in the line with `np.sin`, but not in the line with `plt.plot`. \n",
    "- Re-run the cell. It will still be able to run.\n",
    "- Restart the kernel and rerun all cells. Now there is a problem with the cell above. \n",
    "- Explain.\n",
    "\n",
    "**Get in the habit of restarting the kernel frequently!**\n",
    "\n",
    "---"
   ]
  },
  {
   "cell_type": "code",
   "execution_count": null,
   "metadata": {},
   "outputs": [],
   "source": []
  }
 ],
 "metadata": {
  "kernelspec": {
   "display_name": "Python 3",
   "language": "python",
   "name": "python3"
  },
  "language_info": {
   "codemirror_mode": {
    "name": "ipython",
    "version": 3
   },
   "file_extension": ".py",
   "mimetype": "text/x-python",
   "name": "python",
   "nbconvert_exporter": "python",
   "pygments_lexer": "ipython3",
   "version": "3.8.5"
  }
 },
 "nbformat": 4,
 "nbformat_minor": 4
}
