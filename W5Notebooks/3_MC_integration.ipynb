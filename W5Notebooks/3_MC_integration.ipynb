{
 "cells": [
  {
   "cell_type": "markdown",
   "metadata": {},
   "source": [
    "# Monte Carlo integration of a function over interval\n",
    "\n",
    "A standard example of the Monte Carlo method is the evaluation of definite integrals. Suppose we want to approximate the value of the integral\n",
    "\n",
    "$$\n",
    "\\int_a^b f(x) \\, dx\n",
    "$$\n",
    "\n",
    "\n",
    "by Monte Carlo. (We assume $a<b$.) We use the fact that the mean (average) of $f$ over the interval is\n",
    "\n",
    "$$\n",
    "\\bar f = \\frac{1}{b-a} \\int_a^b f(x) \\, dx\n",
    "$$\n",
    "\n",
    "All we have to do to approximate the integral is to approximate $\\bar f$ over $[a,b]$ using Monte Carlo, and then multiply by $(b-a)$. \n",
    "\n",
    "We will demonstrate the method with a simple example."
   ]
  },
  {
   "cell_type": "code",
   "execution_count": 1,
   "metadata": {},
   "outputs": [],
   "source": [
    "# import libraries\n",
    "\n",
    "import numpy as np\n",
    "import matplotlib.pyplot as plt"
   ]
  },
  {
   "cell_type": "markdown",
   "metadata": {},
   "source": [
    "---\n",
    "\n",
    "We consider the specific function $f(x) = 1-x^2$ and the interval $[a,b]$, where $a=-1$ and $b=1$. \n",
    "\n",
    "We generate a random sample of points $x$ from the uniform distribution on $[a,b]$, evaluate $f(x)$ at each of these points and compute the mean. This gives our approximation to $\\bar f$. Multiplying by $(b-a)$ then gives the approximation to $\\displaystyle{\\int_a^b f(x) dx}$"
   ]
  },
  {
   "cell_type": "code",
   "execution_count": 8,
   "metadata": {},
   "outputs": [
    {
     "name": "stdout",
     "output_type": "stream",
     "text": [
      "the Monte Carlo estimate for the integral is 1.352423978643675\n"
     ]
    },
    {
     "data": {
      "image/png": "[encoded data removed]",
      "text/plain": [
       "<Figure size 432x288 with 1 Axes>"
      ]
     },
     "metadata": {
      "needs_background": "light"
     },
     "output_type": "display_data"
    }
   ],
   "source": [
    "# define the function to integrate\n",
    "def my_fun(x):\n",
    "    return 1 - x**2\n",
    "\n",
    "# set the interval [a,b] and the number of samples\n",
    "a, b = -1, 1\n",
    "N = 800\n",
    "\n",
    "# generate the samples and evaluate f at each \n",
    "x = np.random.uniform(a, b, N)\n",
    "f_of_x = my_fun(x)\n",
    "\n",
    "# compute the mean and estimate the integral\n",
    "f_mean = np.mean(f_of_x)\n",
    "my_integral = (b-a) * f_mean\n",
    "print(\"the Monte Carlo estimate for the integral is\", my_integral)\n",
    "\n",
    "# plot the function and sample points if N is small\n",
    "if N < 1000:\n",
    "    x_plot = np.linspace(a, b, 101)\n",
    "    y_plot = my_fun(x_plot)\n",
    "    plt.plot(x_plot ,y_plot, 'b')\n",
    "    plt.plot(x, f_of_x, 'ro', markersize = 0.5)\n",
    "    plt.plot([a,b,b,a,a],[0,0,f_mean, f_mean,0], 'g')\n",
    "    plt.show()"
   ]
  },
  {
   "cell_type": "markdown",
   "metadata": {},
   "source": [
    "The cell includes Python code to plot the function and the sample points $(x_i, f(x_i))$ if `N<1000`. Also plotted is a rectangle using the base and the mean of the values $f(x_i)$. Try running the cell with `N=50`. Re-run the cell a few times to observe the different samples. \n",
    "\n",
    "Think about it geometrically. You randomly pick some points on a hill and use those to estimate the average height of the hill. From the known base length then you can then approximate area of the hill as the area of a rectangle. \n",
    "\n",
    "With only 50 points the mean from the sample is not very precise, but it is also not terrible, at least not most of the time. (Some samples will give bad estimates. That's the nature of Monte Carlo!) \n",
    "\n",
    "---\n",
    "\n",
    "It is worth stressing how remarkably simple the code is. Both the function and the interval can be easily changed and so this simple code covers pretty every case of finite $a$ and $b$ and any maths function you can write as a Python function. (You can think about what to do if $a$ or $b$ is not finite. Maybe use function composition with a function that takes finite intervals to infinite ones.)\n",
    "\n",
    "---\n",
    "# Exercise\n",
    "\n",
    "---\n",
    "\n",
    "1. Change the above function and interval to:\n",
    "- $f(x) = \\sin(x^2)$ on $[-1, 1]$. (A valley rather than a hill.)\n",
    "- $f(x) = \\sin^5(x)$ on $[0, \\pi]$. \n",
    "- Any of [these](https://en.wikipedia.org/wiki/Nonelementary_integral) on appropriate intervals.\n"
   ]
  },
  {
   "cell_type": "code",
   "execution_count": null,
   "metadata": {},
   "outputs": [],
   "source": []
  }
 ],
 "metadata": {
  "kernelspec": {
   "display_name": "Python 3",
   "language": "python",
   "name": "python3"
  },
  "language_info": {
   "codemirror_mode": {
    "name": "ipython",
    "version": 3
   },
   "file_extension": ".py",
   "mimetype": "text/x-python",
   "name": "python",
   "nbconvert_exporter": "python",
   "pygments_lexer": "ipython3",
   "version": "3.8.5"
  }
 },
 "nbformat": 4,
 "nbformat_minor": 4
}
