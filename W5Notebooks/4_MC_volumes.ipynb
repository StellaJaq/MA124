{
 "cells": [
  {
   "cell_type": "markdown",
   "metadata": {},
   "source": [
    "# Areas and Volumes\n",
    "\n",
    "We introduced Monte Carlo methods with the calculation of area. In this notebook we consider a few further examples of areas and volumes using the procedure of the first notebook. We are going to specify the regions of interest by introducing indicator functions that return 1 if a point is within a specified set (area or volume) and 0 otherwise. \n",
    "\n",
    "We will focus on a few standard geometrical shapes with known areas and volumes, but treating regions of unknown area or volume would be no different.\n"
   ]
  },
  {
   "cell_type": "code",
   "execution_count": 1,
   "metadata": {},
   "outputs": [],
   "source": [
    "import numpy as np\n",
    "import matplotlib.pyplot as plt"
   ]
  },
  {
   "cell_type": "markdown",
   "metadata": {},
   "source": [
    "---\n",
    "\n",
    "## Indicator functions\n",
    "\n",
    "[Indicator functions](https://en.wikipedia.org/wiki/Indicator_function) are functions that are 1 if a point $x$ is within a specified set $A$ and 0 otherwise. The standard maths notation for an indicator function is $\\mathbf{1}_{A}$, so \n",
    "\n",
    "$$\n",
    "\\mathbf{1}_{A}(x)={\\begin{cases}1~&{\\text{ if }}~x\\in A~,\\\\0~&{\\text{ if }}~x\\notin A~.\\end{cases}}\n",
    "$$\n",
    "\n",
    "We are interested in cases where $A$ is some area in $\\mathbb R^2$ or volume in $\\mathbb R^3$.  \n",
    "\n",
    "---\n",
    "\n",
    "Indicator functions are very easy to write in Python, but first one needs a little trick. Conditional operations in Python give Boolean results: True or False. For the indicator function we want instead 1 and 0. It is easy to convert True and False simply by multiplying by the integer `1`. "
   ]
  },
  {
   "cell_type": "code",
   "execution_count": 2,
   "metadata": {},
   "outputs": [
    {
     "name": "stdout",
     "output_type": "stream",
     "text": [
      "False\n",
      "True\n",
      "0\n",
      "1\n"
     ]
    }
   ],
   "source": [
    "# print Boolean value\n",
    "print(9 < 4) \n",
    "print(9 > 4) \n",
    "\n",
    "# print 0, 1 value\n",
    "print(1*(9 < 4)) \n",
    "print(1*(9 > 4)) "
   ]
  },
  {
   "cell_type": "markdown",
   "metadata": {},
   "source": [
    "---\n",
    "\n",
    "## Planar Areas\n",
    "\n",
    "\n",
    "We begin with the indicator function for the unit circle"
   ]
  },
  {
   "cell_type": "code",
   "execution_count": 3,
   "metadata": {},
   "outputs": [],
   "source": [
    "def Indicator_circle(x, y):\n",
    "    # Indicator functions that returns \n",
    "    #  1 if (x,y) is inside the unit circle\n",
    "    #  0 if (x,y) is not\n",
    "    \n",
    "    r = np.sqrt(x**2 + y**2)\n",
    "    return 1*(r < 1)"
   ]
  },
  {
   "cell_type": "markdown",
   "metadata": {},
   "source": [
    "---\n",
    "\n",
    "We can then write a Monte Carlo code to compute the area of a region and use the indicator function where we need to decide whether or not a point is in the region. Note that since the indicator function returns 1 or 0, we just add up the values returned by the indicator function. "
   ]
  },
  {
   "cell_type": "code",
   "execution_count": 4,
   "metadata": {},
   "outputs": [
    {
     "name": "stdout",
     "output_type": "stream",
     "text": [
      "The area of the region is 3.1504\n"
     ]
    }
   ],
   "source": [
    "# Compute the area of a 2D region defined by an indicator function\n",
    "# by using the Monte Carlo method\n",
    "\n",
    "# generate N uniform random points in [x_min, x_max]x[y_min, y_max]\n",
    "N = 10000\n",
    "x_min, x_max = -1, 1\n",
    "y_min, y_max = -1, 1\n",
    "\n",
    "x = np.random.uniform(x_min, x_max, N)\n",
    "y = np.random.uniform(y_min, y_max, N)\n",
    "\n",
    "# add up the total number within the region\n",
    "total = 0\n",
    "for i in range(N):\n",
    "    total += Indicator_circle(x[i], y[i])\n",
    "\n",
    "# obtain the area\n",
    "rectangle_area = (x_max-x_min)*(y_max-y_min)\n",
    "region_area = rectangle_area * total/N\n",
    "\n",
    "print(\"The area of the region is\", region_area)"
   ]
  },
  {
   "cell_type": "code",
   "execution_count": 5,
   "metadata": {},
   "outputs": [
    {
     "name": "stdout",
     "output_type": "stream",
     "text": [
      "3.141592653589793\n"
     ]
    }
   ],
   "source": [
    "# print statement for checking. Modify as needed.\n",
    "print(np.pi)"
   ]
  },
  {
   "cell_type": "markdown",
   "metadata": {},
   "source": [
    "## Exercises:\n",
    "\n",
    "(Answers appear at the end)\n",
    "\n",
    "1. Generalise the above indicator function for the unit circle to the case of a circle of radius $R$ centred on the point $(x0, y0)$. The parameters `R`, `x0` and `y0` will appear inside the function. Test your indicator function with `R=0.5`, `x0 = 0.5`, `y0 = 0.5`. Then use `R=1`, `x0 = 0.5`, `y0 = 0.5`, but adjust `x_min`, `x_max`, `y_min`, `y_max`. Test the function. \n",
    "\n",
    "2. Create a new cell just below the circle indicator function. In that cell write a new indicator function `Indicator_annulus(x, y):` for the area in an annulus centred on $(x0, y0)$ with inner radius $R_1$ and outer radius $R_2$, with $R_1 < R_2$. Test the function. \n",
    "\n",
    "3. Create another new cell and in that cell write an indicator function `Indicator_eccentric(x, y):` for the area between a circle of radius $R_1$ centred on $(x1, y1)$ and a \n",
    "circle of radius $R_2$ centred on $(x2, y2)$. One requires that the parameters satisfy $R_2 > R_1 + d$, where $d$ is the distance between the centres. Test the function. "
   ]
  },
  {
   "cell_type": "markdown",
   "metadata": {},
   "source": [
    "---\n",
    "\n",
    "## Volumes\n",
    "\n",
    "We can now write an indicator function for a sphere centred on the origin."
   ]
  },
  {
   "cell_type": "code",
   "execution_count": 6,
   "metadata": {},
   "outputs": [],
   "source": [
    "def Indicator_sphere(x, y, z):\n",
    "    # Indicator functions that returns \n",
    "    #  1 if (x,y,z) is in sphere of radius R\n",
    "    #  0 if (x,y,z) is not\n",
    "\n",
    "    R = 1\n",
    "    r = np.sqrt(x**2 + y**2 + z**2)\n",
    "    return 1*(r < R)"
   ]
  },
  {
   "cell_type": "code",
   "execution_count": 7,
   "metadata": {},
   "outputs": [
    {
     "name": "stdout",
     "output_type": "stream",
     "text": [
      "volume of object is 4.2084\n"
     ]
    }
   ],
   "source": [
    "# Compute the volume of a 3D object defined by an indicator function\n",
    "# by using the Monte Carlo method\n",
    "\n",
    "# generate N uniform random points in [x_min, x_max]x[y_min, y_max]x[z_min, z_max]\n",
    "N = 100000\n",
    "x_min, x_max = -1, 1\n",
    "y_min, y_max = -1, 1\n",
    "z_min, z_max = -1, 1\n",
    "\n",
    "x = np.random.uniform(x_min, x_max, N)\n",
    "y = np.random.uniform(y_min, y_max, N)\n",
    "z = np.random.uniform(z_min, z_max, N)\n",
    "\n",
    "# add up the total number within the region\n",
    "total = 0\n",
    "for i in range(N):\n",
    "    total += Indicator_sphere(x[i], y[i], z[i])\n",
    "\n",
    "# obtain the volume\n",
    "cuboid_volume = (x_max-x_min)*(y_max-y_min)*(z_max-z_min)\n",
    "object_volume = cuboid_volume * total/N\n",
    "\n",
    "print(\"volume of object is\", object_volume)"
   ]
  },
  {
   "cell_type": "code",
   "execution_count": 8,
   "metadata": {},
   "outputs": [
    {
     "name": "stdout",
     "output_type": "stream",
     "text": [
      "4.1887902047863905\n"
     ]
    }
   ],
   "source": [
    "# print statement for checking. Modify as needed.\n",
    "print(4*np.pi/3)"
   ]
  },
  {
   "cell_type": "markdown",
   "metadata": {},
   "source": [
    "## Exercises:\n",
    "\n",
    "(Answers appear at the end)\n",
    "\n",
    "4. Create a new cell just below the sphere indicator function. In that cell write a new indicator function `Indicator_cylinder(x, y, z):` for the cylindrical volume given by $\\sqrt{x^2 + y^2} < R$ and $0  < z < H$, where $R$ and $H$ are parameters in the function. Test the function. \n",
    "\n",
    "5. (Bonus question) Create another new cell and in that cell write an indicator function `Indicator_cone(x, y, z):` for the volume inside a right circular cone with base radius $R$ and height $H$. Test the function. Hint: If you have trouble working out the formula for this, start with special case $R=1$, $H=1$ and think about how you would code that."
   ]
  },
  {
   "cell_type": "markdown",
   "metadata": {},
   "source": [
    "---\n",
    "# Answers \n",
    "---\n",
    "\n",
    "Expand cells to see answers."
   ]
  },
  {
   "cell_type": "markdown",
   "metadata": {},
   "source": [
    "Q1 answer"
   ]
  },
  {
   "cell_type": "code",
   "execution_count": 9,
   "metadata": {},
   "outputs": [],
   "source": [
    "def Indicator_circle(x, y):\n",
    "    # Indicator functions that returns \n",
    "    #  1 if (x,y) is in circle of radius R centred on (X0,y0)\n",
    "    #  0 if (x,y) is not\n",
    "\n",
    "    R = 0.5\n",
    "    x0, y0 = 0.5, 0.5\n",
    "    \n",
    "    r = np.sqrt((x-x0)**2 + (y-y0)**2)\n",
    "    return 1*(r < R)"
   ]
  },
  {
   "cell_type": "markdown",
   "metadata": {},
   "source": [
    "Q2 answer"
   ]
  },
  {
   "cell_type": "code",
   "execution_count": 10,
   "metadata": {},
   "outputs": [],
   "source": [
    "def Indicator_annulus(x, y):\n",
    "    # Indicator functions that returns \n",
    "    #  1 if (x,y) is in annular centred on (X0,y0), radii R1 < R2.\n",
    "    #  0 if (x,y) is not\n",
    "\n",
    "    R1 = 0.5\n",
    "    R2 = 1.0\n",
    "    x0, y0 = 0.0, 0.0\n",
    "    \n",
    "    r = np.sqrt((x-x0)**2 + (y-y0)**2)\n",
    "    return 1*( (r > R1) and (r < R2) )"
   ]
  },
  {
   "cell_type": "markdown",
   "metadata": {},
   "source": [
    "Q3 answer"
   ]
  },
  {
   "cell_type": "code",
   "execution_count": 11,
   "metadata": {},
   "outputs": [],
   "source": [
    "def Indicator_eccentric(x, y):\n",
    "    # Indicator functions that returns \n",
    "    #  1 if (x,y) is in eccentric annulus.\n",
    "    #  0 if (x,y) is not\n",
    "    # parameter must satisfy R_2 > R_1 + d, where d is the distance between the centres\n",
    "    # this condition is not verified.\n",
    "    \n",
    "    R1 = 0.5\n",
    "    R2 = 1.0\n",
    "    x1, y1 = 0.1, 0.0\n",
    "    x2, y2 = 0.0, 0.2\n",
    "    \n",
    "    r1 = np.sqrt((x-x1)**2 + (y-y1)**2)\n",
    "    r2 = np.sqrt((x-x2)**2 + (y-y2)**2)\n",
    "\n",
    "    return 1*( (r1 > R1) and (r2 < R2) )"
   ]
  },
  {
   "cell_type": "markdown",
   "metadata": {},
   "source": [
    "Q4 answer"
   ]
  },
  {
   "cell_type": "code",
   "execution_count": 12,
   "metadata": {},
   "outputs": [],
   "source": [
    "def Indicator_cylinder(x, y, z):\n",
    "    # Indicator functions that returns \n",
    "    #  1 if (x,y,z) is in cylinder of base radius R and height H. \n",
    "    #  0 if (x,y,z) is not\n",
    "\n",
    "    R = 1\n",
    "    H = 1\n",
    "    r = np.sqrt(x**2 + y**2)\n",
    "    return 1*( (r < R) and (z>0) and (z<H) )"
   ]
  },
  {
   "cell_type": "markdown",
   "metadata": {},
   "source": [
    "Q5 answer"
   ]
  },
  {
   "cell_type": "code",
   "execution_count": 13,
   "metadata": {},
   "outputs": [],
   "source": [
    "def Indicator_cone(x, y, z):\n",
    "    # Indicator functions that returns \n",
    "    #  1 if (x,y,z) is in cone of base radius R and height H. \n",
    "    #  0 if (x,y,z) is not\n",
    "\n",
    "    R = 1\n",
    "    H = 1\n",
    "    r = np.sqrt(x**2 + y**2)\n",
    "    return 1*( (r/R < (1 - z/H)) and (z>0) )"
   ]
  }
 ],
 "metadata": {
  "kernelspec": {
   "display_name": "Python 3",
   "language": "python",
   "name": "python3"
  },
  "language_info": {
   "codemirror_mode": {
    "name": "ipython",
    "version": 3
   },
   "file_extension": ".py",
   "mimetype": "text/x-python",
   "name": "python",
   "nbconvert_exporter": "python",
   "pygments_lexer": "ipython3",
   "version": "3.8.5"
  }
 },
 "nbformat": 4,
 "nbformat_minor": 4
}
