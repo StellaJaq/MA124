{
 "cells": [
  {
   "cell_type": "markdown",
   "metadata": {},
   "source": [
    "# Review - ODEs and Stats\n",
    "\n",
    "Week 6 is about combining our methods for solving ODEs with random variables and Monte Carlo to examine solutions to stochastic differential equations. We begin by reviewing a few key concepts from Weeks 4 and 5 that we will need again this week. \n"
   ]
  },
  {
   "cell_type": "code",
   "execution_count": 1,
   "metadata": {},
   "outputs": [],
   "source": [
    "# import libraries\n",
    "\n",
    "import numpy as np\n",
    "import matplotlib.pyplot as plt"
   ]
  },
  {
   "cell_type": "markdown",
   "metadata": {},
   "source": [
    "---\n",
    "\n",
    "## Part1: Euler's method\n",
    "\n",
    "When we studied ODEs we used Euler's method only for illustration. For our \"real\" solutions we used SciPy `Odeint`. However, for our stochastic differential equations we will use Euler's method. Hence it is important that the Python coding be clear.\n",
    "\n",
    "We consider systems of ODEs\n",
    "\n",
    "$$\n",
    "\\dot y = \\frac{dy}{dt} = f(y,t), \\label{eq:ODE1}\\tag{1}\n",
    "$$\n",
    "\n",
    "We let $y_n$ denote our numerical approximation to the true solution $y(t_n)$ on a time grid, $t_0, t_1, \\cdots, t_n \\cdots t_N$. The time grid has $N+1$ points.\n",
    "\n",
    "\n",
    "*Euler time stepping* is given by\n",
    "\n",
    "$$\n",
    "y_{n+1} = y_n + \\Delta t  f(y_n, t_n) \n",
    "$$\n",
    "\n",
    "We assume that we are told the initial condition. Hence we know $y_0$. We simply repeatedly apply the Euler time stepping to find the approximate solution $y_n$ at later times. "
   ]
  },
  {
   "cell_type": "markdown",
   "metadata": {},
   "source": [
    "---\n",
    "\n",
    "We considered a Python code for solving the linear, one-variable ODE \n",
    "\n",
    "$$\n",
    "\\dot y = -\\mu y\n",
    "$$\n",
    "\n",
    "The code from week 4 is repeated here with some changes in the parameters. While it is simple, we are going to generalise it to SDEs, so it is worth being sure you understand everything here. Note in particular that the solution array is of length `Nsteps+1` for the `Nsteps+1` values on our time grid. "
   ]
  },
  {
   "cell_type": "code",
   "execution_count": 2,
   "metadata": {},
   "outputs": [
    {
     "data": {
      "image/png": "[encoded data removed]",
      "text/plain": [
       "<Figure size 432x288 with 1 Axes>"
      ]
     },
     "metadata": {
      "needs_background": "light"
     },
     "output_type": "display_data"
    }
   ],
   "source": [
    "# Solve the ODE: dot y = -mu y, by Euler time stepping,\n",
    "# and plot the numerical and true solutions.\n",
    "\n",
    "# Problem setup. \n",
    "# Set model and numerical parameters, and the initial condition.\n",
    "# These are the lines the user might want to vary.\n",
    "tf = 2\n",
    "Nsteps = 10\n",
    "mu = 0.75\n",
    "y0 = 5\n",
    "\n",
    "# Generate the time grid and solution array\n",
    "t, dt = np.linspace(0, tf, Nsteps+1, retstep=True)\n",
    "y = np.zeros(Nsteps+1)\n",
    "\n",
    "# Set the first point in the solution array to the initial condition\n",
    "y[0] = y0\n",
    "    \n",
    "# Euler time-stepping loop:\n",
    "for n in range(Nsteps):\n",
    "    ydot = -mu * y[n]\n",
    "    y[n+1] = y[n] + dt * ydot\n",
    "        \n",
    "# plot the numerical solution\n",
    "plt.plot(t, y, 'o')\n",
    "\n",
    "# plot the true solution\n",
    "y_true = y0*np.exp(-mu*t)\n",
    "plt.plot(t, y_true)\n",
    "\n",
    "# labels etc\n",
    "plt.xlabel(\"t\", fontsize=14)\n",
    "plt.ylabel(\"y\", fontsize=14)\n",
    "plt.title(\"Euler solution to $\\dot y = -\\mu y$\", fontsize=16)\n",
    "\n",
    "plt.show()"
   ]
  },
  {
   "cell_type": "markdown",
   "metadata": {},
   "source": [
    "**Exercise:** Verify that as you make `Nsteps` larger and larger, that is `dt` smaller and smaller, the solution gets better and better. You can do this graphically, and also by printing the numerical solution at the final time together with the exact solution.\n",
    "\n",
    "---\n",
    "\n",
    "## Part II: Systems of ODEs\n",
    "\n",
    "We then considered the generalisation to systems of ODEs. The important point here is our solution array `y_sol` is then a 2D array. The first dimension corresponds to time and the second dimension corresponds to the number of equations. \n",
    "\n",
    "Below is a simple Python code cell that time steps the trivial system of ODEs $\\dot y = y$ where $y$. The number of equations is specified by the initial condition. \n",
    "\n",
    "The important part to understand is the time-stepping loop where all the equations are updated simultaneously using slicing. We are going to use a very similar construction this week."
   ]
  },
  {
   "cell_type": "code",
   "execution_count": 3,
   "metadata": {},
   "outputs": [
    {
     "name": "stdout",
     "output_type": "stream",
     "text": [
      "[[2.      4.     ]\n",
      " [2.4     4.8    ]\n",
      " [2.88    5.76   ]\n",
      " [3.456   6.912  ]\n",
      " [4.1472  8.2944 ]\n",
      " [4.97664 9.95328]]\n"
     ]
    }
   ],
   "source": [
    "# Euler time-stepping of the systems of ODEs: dot y = y.\n",
    "\n",
    "# Set problem parameters\n",
    "Nsteps = 5\n",
    "tf = 1\n",
    "y0 = np.array([2, 4])\n",
    "\n",
    "# Compute number of dependent variables from y0\n",
    "Neqs = len(y0)\n",
    "\n",
    "# Allocate t and y arrays\n",
    "t, dt = np.linspace(0, tf, Nsteps+1, retstep=True)\n",
    "y_sol = np.zeros((Nsteps+1, Neqs))\n",
    "\n",
    "# Initialise the solution array\n",
    "y_sol[0,:] = y0[:]\n",
    "\n",
    "# Euler time-stepping loop (for the identity function f(t,y) = y)\n",
    "for n in range(Nsteps):\n",
    "    ydot = y_sol[n,:]\n",
    "    y_sol[n+1,:] = y_sol[n,:] + dt * ydot\n",
    "\n",
    "# print the final solution\n",
    "print(y_sol)"
   ]
  },
  {
   "cell_type": "markdown",
   "metadata": {},
   "source": [
    "**Exercise:** Add a third value to the initial condition array `y0`. Maybe pick a negative one for variety. Rerun the cell. If you feel energetic, try other initial conditions and `Nsteps`, and observe the corresponding shape of the output. \n",
    "\n",
    "To summarise: \n",
    "\n",
    "- In the 2D solution array `y_sol`, rows correspond to different times and columns correspond to different components of the solution. \n"
   ]
  },
  {
   "cell_type": "markdown",
   "metadata": {},
   "source": [
    "---\n",
    "\n",
    "## Part III: Normally distributed random numbers\n",
    "\n",
    "To generate an array of `N` random numbers from the standard normal distribution we use\n",
    "```\n",
    "X = np.random.randn(N)\n",
    "```\n",
    "\n",
    "If we want the mean and standard deviation of an array for values we use\n",
    "```\n",
    "np.mean(X)\n",
    "np.std(X)\n",
    "```\n",
    "\n",
    "For example"
   ]
  },
  {
   "cell_type": "code",
   "execution_count": 4,
   "metadata": {},
   "outputs": [
    {
     "name": "stdout",
     "output_type": "stream",
     "text": [
      "the mean of X is -0.06722456957587382\n",
      "the mean of X is now -2.067224569575874\n",
      "the standard deviation of X is 0.9813918218803063\n"
     ]
    }
   ],
   "source": [
    "# \n",
    "N = 1000\n",
    "X = np.random.randn(N)\n",
    "print(\"the mean of X is\", np.mean(X))\n",
    "\n",
    "# subtract 2 from all values of X\n",
    "X -= 2\n",
    "print(\"the mean of X is now\", np.mean(X))\n",
    "\n",
    "print(\"the standard deviation of X is\", np.std(X))\n"
   ]
  },
  {
   "cell_type": "markdown",
   "metadata": {},
   "source": [
    "---\n",
    "\n",
    "We need to plot the normal (Gaussian) distribution. We use the scipy.stats and first import `norm`"
   ]
  },
  {
   "cell_type": "code",
   "execution_count": 5,
   "metadata": {},
   "outputs": [],
   "source": [
    "from scipy.stats import norm"
   ]
  },
  {
   "cell_type": "markdown",
   "metadata": {},
   "source": [
    "To plot the standard normal distribution we use"
   ]
  },
  {
   "cell_type": "code",
   "execution_count": 6,
   "metadata": {},
   "outputs": [
    {
     "data": {
      "image/png": "[encoded data removed]",
      "text/plain": [
       "<Figure size 432x288 with 1 Axes>"
      ]
     },
     "metadata": {
      "needs_background": "light"
     },
     "output_type": "display_data"
    }
   ],
   "source": [
    "# plot the standard normal distribution from -4 to 4 with line weight 3\n",
    "\n",
    "x = np.linspace(-4, 4, 101)\n",
    "y = norm.pdf(x)\n",
    "plt.plot(x, y, lw=3)\n",
    "plt.show()"
   ]
  },
  {
   "cell_type": "markdown",
   "metadata": {},
   "source": [
    "We can plot normal distributions with other means (locations) and other standard deviations (scales). \n",
    "The general form of the function `norm.pdf` is\n",
    "\n",
    "```\n",
    "norm.pdf(x, loc, scale)\n",
    "```\n",
    "\n",
    "where \n",
    "- `loc` is the same as mean and has default value 0.\n",
    "- `scale` is the same as standard deviation and has default value 1.\n",
    "\n",
    "**Exercise:** Plot the normal distribution with mean -2 and standard deviation 2."
   ]
  },
  {
   "cell_type": "code",
   "execution_count": 7,
   "metadata": {
    "jupyter": {
     "source_hidden": true
    }
   },
   "outputs": [
    {
     "data": {
      "image/png": "[encoded data removed]",
      "text/plain": [
       "<Figure size 432x288 with 1 Axes>"
      ]
     },
     "metadata": {
      "needs_background": "light"
     },
     "output_type": "display_data"
    }
   ],
   "source": [
    "# plot normal distribution with mean -2 and std 3\n",
    "x = np.linspace(-10,6,101)\n",
    "y = norm.pdf(x, -2, 3)\n",
    "plt.plot(x, y, lw=3)\n",
    "plt.show()"
   ]
  },
  {
   "cell_type": "code",
   "execution_count": null,
   "metadata": {},
   "outputs": [],
   "source": []
  }
 ],
 "metadata": {
  "kernelspec": {
   "display_name": "Python 3",
   "language": "python",
   "name": "python3"
  },
  "language_info": {
   "codemirror_mode": {
    "name": "ipython",
    "version": 3
   },
   "file_extension": ".py",
   "mimetype": "text/x-python",
   "name": "python",
   "nbconvert_exporter": "python",
   "pygments_lexer": "ipython3",
   "version": "3.8.5"
  }
 },
 "nbformat": 4,
 "nbformat_minor": 4
}
