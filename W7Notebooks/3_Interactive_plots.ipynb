{
 "cells": [
  {
   "cell_type": "markdown",
   "metadata": {},
   "source": [
    "# Interactive plots (optional)\n",
    "\n",
    "Here we describe briefly how to produce interactive 3D plots. This is particularly useful when plotting surfaces or curves in 3D as you can interactively rotate your viewpoint. Unfortunately this does not work on the online version of JupyterLab and may also not work on some other installations. Hence the notebook is optional. \n",
    "\n",
    "---\n",
    "\n",
    "All you need to do to make your 3D plots interactive is execute the cell below."
   ]
  },
  {
   "cell_type": "code",
   "execution_count": 1,
   "metadata": {},
   "outputs": [],
   "source": [
    "%matplotlib qt"
   ]
  },
  {
   "cell_type": "markdown",
   "metadata": {},
   "source": [
    "Everything else remains as before\n",
    "\n",
    "---\n",
    "\n",
    "### Surface plot"
   ]
  },
  {
   "cell_type": "code",
   "execution_count": 2,
   "metadata": {},
   "outputs": [],
   "source": [
    "import numpy as np\n",
    "import matplotlib.pyplot as plt\n",
    "from mpl_toolkits.mplot3d import Axes3D"
   ]
  },
  {
   "cell_type": "code",
   "execution_count": 3,
   "metadata": {},
   "outputs": [],
   "source": [
    "# define a function of two variables\n",
    "\n",
    "def my_fun(x, y):\n",
    "    return 1 - 0.8 * x - x**2 + y**2 + 0.1*x**4 "
   ]
  },
  {
   "cell_type": "code",
   "execution_count": 4,
   "metadata": {},
   "outputs": [],
   "source": [
    "# x grid and y grid defined separately\n",
    "# Here we use only 51 grid points in each direction\n",
    "x = np.linspace(-3.0, 3.0, 51)\n",
    "y = np.linspace(-2.0, 2.0, 51)\n",
    "\n",
    "# meshgrid generates a two-dimensional grid\n",
    "X, Y = np.meshgrid(x, y)\n",
    "\n",
    "# set Z to the function on the grid\n",
    "Z = my_fun(X, Y)"
   ]
  },
  {
   "cell_type": "code",
   "execution_count": 5,
   "metadata": {},
   "outputs": [],
   "source": [
    "# initialise 3D plotting\n",
    "fig = plt.figure(figsize=(6,6))\n",
    "ax = fig.gca(projection='3d')\n",
    "\n",
    "# plot the surface\n",
    "ax.plot_surface(X, Y, Z)\n",
    "\n",
    "# label the axes\n",
    "ax.set_xlabel(\"x\", fontsize=14)\n",
    "ax.set_ylabel(\"y\", fontsize=14)\n",
    "ax.set_zlabel(\"z\", fontsize=14)\n",
    "\n",
    "plt.show()"
   ]
  },
  {
   "cell_type": "markdown",
   "metadata": {},
   "source": [
    "If this works for you, you will see a nice 3D plot in a separate window that you can move around with the cursor. \n",
    "\n",
    "---"
   ]
  },
  {
   "cell_type": "markdown",
   "metadata": {},
   "source": [
    "### 3D curve\n",
    "\n",
    "You can interactively view a curve in 3D. "
   ]
  },
  {
   "cell_type": "code",
   "execution_count": 6,
   "metadata": {},
   "outputs": [],
   "source": [
    "# create a cone spiral in R^3\n",
    "t = np.linspace(0,9*np.pi,201)\n",
    "x = t * np.cos(t)\n",
    "y = t * np.sin(t)\n",
    "z = t\n",
    "\n",
    "# initialise 3D plotting\n",
    "fig = plt.figure(figsize=(6,6))\n",
    "ax = fig.gca(projection='3d')\n",
    "\n",
    "# plot the helix\n",
    "ax.plot(x, y, z, lw = 3)\n",
    "ax.set_xlabel(\"x\", fontsize=14)\n",
    "ax.set_ylabel(\"y\", fontsize=14)\n",
    "ax.set_zlabel(\"z\", fontsize=14)\n",
    "plt.show()"
   ]
  },
  {
   "cell_type": "markdown",
   "metadata": {},
   "source": [
    "---\n",
    "\n",
    "If you want to turn off interactive plotting, you need to restart the kernel and not run the first line in this notebook."
   ]
  },
  {
   "cell_type": "code",
   "execution_count": null,
   "metadata": {},
   "outputs": [],
   "source": []
  }
 ],
 "metadata": {
  "kernelspec": {
   "display_name": "Python 3",
   "language": "python",
   "name": "python3"
  },
  "language_info": {
   "codemirror_mode": {
    "name": "ipython",
    "version": 3
   },
   "file_extension": ".py",
   "mimetype": "text/x-python",
   "name": "python",
   "nbconvert_exporter": "python",
   "pygments_lexer": "ipython3",
   "version": "3.8.5"
  }
 },
 "nbformat": 4,
 "nbformat_minor": 4
}
