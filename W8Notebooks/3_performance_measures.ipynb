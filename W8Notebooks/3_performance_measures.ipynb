{
 "cells": [
  {
   "cell_type": "markdown",
   "metadata": {},
   "source": [
    "# Performance measures\n",
    "\n",
    "In our introductory demonstration of machine learning using the diabetes dataset, not only did we set aside just five examples as a test set, we did not perform any quantitative analysis using the test data. \n",
    "\n",
    "Measuring model performance is a major topic in machine learning. To get a sense of this, skim [this page](https://scikit-learn.org/stable/modules/model_evaluation.html)\n",
    "from the scikit-learn web page. This is far too much detail for our needs. \n",
    "\n",
    "Here we will look at the `residual` and then four quantitative metrics that can be used to  measure the performance of prediction from a regression model:\n",
    "- mean squared error\n",
    "- root mean squared error\n",
    "- mean absolute error\n",
    "- R2 (R squared) \n",
    "\n",
    "\n",
    "We will again use the diabetes dataset as our example.\n",
    "\n",
    "---\n",
    "\n",
    "### Import libraries \n",
    "\n",
    "We will need `r2_score` and so import it in the cell below."
   ]
  },
  {
   "cell_type": "code",
   "execution_count": 1,
   "metadata": {},
   "outputs": [],
   "source": [
    "# Import libraries\n",
    "\n",
    "import numpy as np\n",
    "import matplotlib.pyplot as plt\n",
    "import pandas as pd\n",
    "\n",
    "from sklearn import datasets\n",
    "from sklearn import linear_model\n",
    "from sklearn.model_selection import train_test_split\n",
    "from sklearn.metrics import r2_score"
   ]
  },
  {
   "cell_type": "markdown",
   "metadata": {},
   "source": [
    "Note: the cell above should give you a good idea of what you need to import for Assignment 4. (There is one thing above you won't need and one additional thing you will need.)"
   ]
  },
  {
   "cell_type": "markdown",
   "metadata": {},
   "source": [
    "---\n",
    "\n",
    "## Example: Diabetes dataset\n",
    "\n",
    "Since we have now learned how to load data, split the data, train the model and predict, we do all the tasks in a single compute cell. \n"
   ]
  },
  {
   "cell_type": "code",
   "execution_count": 2,
   "metadata": {},
   "outputs": [],
   "source": [
    "# Load the diabetes dataset\n",
    "X, y = datasets.load_diabetes(return_X_y=True)\n",
    "\n",
    "# Create a train-test split with a test size of 20% of the total samples\n",
    "X_train, X_test, y_train, y_test = train_test_split(X, y, test_size=0.2)\n",
    "\n",
    "# Create linear regression object\n",
    "regr = linear_model.LinearRegression()\n",
    "\n",
    "# Train the model using the train data\n",
    "regr.fit(X_train, y_train)\n",
    "\n",
    "# Use the model to predict the test data\n",
    "y_pred = regr.predict(X_test)"
   ]
  },
  {
   "cell_type": "markdown",
   "metadata": {},
   "source": [
    "We now have our predicted target values `y_pred` on the test set `X_test`. The question is, how good are they? \n",
    "\n",
    "We have the corresponding target values `y_test` from the dataset itself. We treat these as truth. So all we need to do is compare `y_pred` with `y_test`. "
   ]
  },
  {
   "cell_type": "markdown",
   "metadata": {},
   "source": [
    "---\n",
    "\n",
    "# The residual\n",
    "\n",
    "In numerical analysis, the [residual](https://en.wikipedia.org/wiki/Residual_(numerical_analysis)) is the difference between exact and approximate values. In our machine-learning examples, the residual is just `y_test - y_pred`. The cell below computes residual and plots it as a function of the target `y`. (Recall that the target we are predicting is the disease progression after one year.)"
   ]
  },
  {
   "cell_type": "code",
   "execution_count": 3,
   "metadata": {},
   "outputs": [
    {
     "data": {
      "image/png": "[encoded data removed]",
      "text/plain": [
       "<Figure size 432x288 with 1 Axes>"
      ]
     },
     "metadata": {
      "needs_background": "light"
     },
     "output_type": "display_data"
    }
   ],
   "source": [
    "resid = y_test - y_pred\n",
    "plt.scatter(y_test, resid)\n",
    "plt.xlabel(\"disease progression after one year\", fontsize=\"14\")\n",
    "plt.ylabel(\"residual\", fontsize=\"14\")\n",
    "plt.title(\"dependence of residual on target\", fontsize=\"16\")\n",
    "plt.show()"
   ]
  },
  {
   "cell_type": "markdown",
   "metadata": {},
   "source": [
    "One clearly sees in this plot that the residual, the error, varies systematically with target. This is clearly useful information about model performance. In practice one might do something with this information.\n",
    "\n",
    "---"
   ]
  },
  {
   "cell_type": "markdown",
   "metadata": {},
   "source": [
    "## Performance metrics\n",
    "\n",
    "We now look at the four performance metrics. These are scalar measures of how well `y_test` and `y_pred` agree.\n",
    "\n",
    "---\n",
    "#### mean squared error (MSE)\n",
    "\n",
    "The definition is in the name. You can find a general description [here](https://en.wikipedia.org/wiki/Mean_squared_error). We turn directly to the implementation in Python. \n"
   ]
  },
  {
   "cell_type": "code",
   "execution_count": 4,
   "metadata": {},
   "outputs": [
    {
     "name": "stdout",
     "output_type": "stream",
     "text": [
      "2957.81881125211\n"
     ]
    }
   ],
   "source": [
    "# Directly from the definition\n",
    "MSE = np.mean((y_test - y_pred)**2)\n",
    "print(MSE)"
   ]
  },
  {
   "cell_type": "code",
   "execution_count": 5,
   "metadata": {},
   "outputs": [
    {
     "name": "stdout",
     "output_type": "stream",
     "text": [
      "2957.81881125211\n"
     ]
    }
   ],
   "source": [
    "# or from the the residual\n",
    "MSE = np.mean(resid**2)\n",
    "print(MSE)"
   ]
  },
  {
   "cell_type": "markdown",
   "metadata": {},
   "source": [
    "---\n",
    "#### root mean squared error (RMSE)\n",
    "\n",
    "Again, the definition is in the name. We simply take the square root of the MSE. For example\n"
   ]
  },
  {
   "cell_type": "code",
   "execution_count": 6,
   "metadata": {},
   "outputs": [
    {
     "name": "stdout",
     "output_type": "stream",
     "text": [
      "54.38583281749127\n"
     ]
    }
   ],
   "source": [
    "RMSE = np.sqrt(np.mean(resid**2))\n",
    "print(RMSE)"
   ]
  },
  {
   "cell_type": "markdown",
   "metadata": {},
   "source": [
    "---\n",
    "#### mean absolute error (MAE)\n",
    "\n",
    "Once again, the definition is in the name. "
   ]
  },
  {
   "cell_type": "code",
   "execution_count": 7,
   "metadata": {},
   "outputs": [
    {
     "name": "stdout",
     "output_type": "stream",
     "text": [
      "44.96894743608768\n"
     ]
    }
   ],
   "source": [
    "MAE = np.mean(np.abs(resid))\n",
    "print(MAE)"
   ]
  },
  {
   "cell_type": "markdown",
   "metadata": {},
   "source": [
    "For each of the above metrics, smaller is clearly better. Smaller errors correspond to smaller differences between `y_pred` and `y_test`, and hence better predictions.\n",
    "\n",
    "---\n",
    "\n",
    "\n",
    "#### R squared (R^2)\n",
    "\n",
    "Here the definition is not in the name. R squared is known as the [coefficient of determination](https://en.wikipedia.org/wiki/Coefficient_of_determination). It plays a significant role in evaluating machine learning models, and hence you should be aware of it. However, it is not sufficiently important in our brief study of machine learning to warrant a detailed discussion. There are three things you need to know:  \n",
    "\n",
    "- There is a scikit-learn function to compute it.\n",
    "- For R2, bigger is better. R2=1 corresponds to perfect predictions, ie. `y_pred = y_test`. Very good predictions give R2 > 0.9.\n",
    "- It is not a function of `resid` only. One needs both `y_test` and `y_pred`."
   ]
  },
  {
   "cell_type": "code",
   "execution_count": 8,
   "metadata": {},
   "outputs": [
    {
     "name": "stdout",
     "output_type": "stream",
     "text": [
      "0.5504258780233245\n"
     ]
    }
   ],
   "source": [
    "# using scikit-learn to compute R2 (note that r2_score was imported above)\n",
    "R2 = r2_score(y_test, y_pred)\n",
    "print(R2)"
   ]
  },
  {
   "cell_type": "code",
   "execution_count": 9,
   "metadata": {},
   "outputs": [
    {
     "name": "stdout",
     "output_type": "stream",
     "text": [
      "1.0\n"
     ]
    }
   ],
   "source": [
    "# showing that y_pred = y_test indeed gives R2=1\n",
    "R2_perfect = r2_score(y_test, y_test)\n",
    "print(R2_perfect)"
   ]
  },
  {
   "cell_type": "markdown",
   "metadata": {},
   "source": [
    "---\n",
    "\n",
    "A Python definition of R2 is given by\n"
   ]
  },
  {
   "cell_type": "code",
   "execution_count": null,
   "metadata": {},
   "outputs": [],
   "source": [
    "1 - np.sum((y_test-y_pred)**2)/np.sum((y_test-np.mean(y_test))**2)"
   ]
  },
  {
   "cell_type": "markdown",
   "metadata": {},
   "source": [
    "which you can convert into a mathematical expression. Or, if you are interested in further details, we suggest the [wikipedia page](https://en.wikipedia.org/wiki/Coefficient_of_determination) or \n",
    "[this page](https://scikit-learn.org/stable/modules/model_evaluation.html).\n",
    "\n",
    "---"
   ]
  },
  {
   "cell_type": "code",
   "execution_count": null,
   "metadata": {},
   "outputs": [],
   "source": []
  }
 ],
 "metadata": {
  "kernelspec": {
   "display_name": "Python 3",
   "language": "python",
   "name": "python3"
  },
  "language_info": {
   "codemirror_mode": {
    "name": "ipython",
    "version": 3
   },
   "file_extension": ".py",
   "mimetype": "text/x-python",
   "name": "python",
   "nbconvert_exporter": "python",
   "pygments_lexer": "ipython3",
   "version": "3.8.5"
  }
 },
 "nbformat": 4,
 "nbformat_minor": 4
}
