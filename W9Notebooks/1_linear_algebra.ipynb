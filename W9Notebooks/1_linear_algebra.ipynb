{
 "cells": [
  {
   "cell_type": "markdown",
   "metadata": {},
   "source": [
    "# Linear Algebra with NumPy\n",
    "\n",
    "We have been using the NumPy library since Week 3. We have used 1D and 2D arrays and we know that these are like vectors and matrices, but we have not considered basic linear algebra, such as multiplying a matrix times a vector. In this notebook we review some of the material on generating matrices and then look at operations using matrices and vectors.\n"
   ]
  },
  {
   "cell_type": "code",
   "execution_count": 1,
   "metadata": {},
   "outputs": [],
   "source": [
    "# import libraries \n",
    "\n",
    "import numpy as np\n",
    "import matplotlib.pyplot as plt"
   ]
  },
  {
   "cell_type": "markdown",
   "metadata": {},
   "source": [
    "---\n",
    "## Array creation\n"
   ]
  },
  {
   "cell_type": "markdown",
   "metadata": {},
   "source": [
    "We can create the common vectors and matrices that we will need"
   ]
  },
  {
   "cell_type": "code",
   "execution_count": 2,
   "metadata": {},
   "outputs": [
    {
     "name": "stdout",
     "output_type": "stream",
     "text": [
      "v = [1 2 3] \n",
      "\n",
      "w = [0. 0. 0.] \n",
      "\n",
      "a = [0 2 4 6 8] \n",
      "\n",
      "A =\n",
      " [[0. 0. 0.]\n",
      " [0. 0. 0.]] \n",
      "\n",
      "B =\n",
      " [[1. 1. 1. 1.]\n",
      " [1. 1. 1. 1.]\n",
      " [1. 1. 1. 1.]] \n",
      "\n",
      "Id = \n",
      " [[1. 0. 0. 0.]\n",
      " [0. 1. 0. 0.]\n",
      " [0. 0. 1. 0.]\n",
      " [0. 0. 0. 1.]] \n",
      "\n"
     ]
    }
   ],
   "source": [
    "v = np.array([1, 2, 3])               # create vector from a list\n",
    "w = np.zeros(3)                       # create a vector of length 3 with zeros\n",
    "a = np.arange(0, 10, 2)               # create a vector of regularly spaced values\n",
    "\n",
    "A = np.zeros((2, 3))                  # create a 2 x 3 matrix full of zeros\n",
    "B = np.ones((3, 4))                   # create a 3 x 4 matrix full of ones \n",
    "Id = np.eye(4)                        # create a 4 x 4 identity matrix\n",
    "\n",
    "print(\"v =\", v, \"\\n\")\n",
    "print(\"w =\", w, \"\\n\")\n",
    "print(\"a =\", a, \"\\n\")\n",
    "\n",
    "print(\"A =\\n\", A, \"\\n\")\n",
    "print(\"B =\\n\", B, \"\\n\")\n",
    "print(\"Id = \\n\", Id, \"\\n\")\n",
    "\n",
    "# Note \"\\n\" prints a newline, used here to provide more readability"
   ]
  },
  {
   "cell_type": "markdown",
   "metadata": {},
   "source": [
    "**Warning:**  If you are creating a vector, then you can just use `np.zeros(vector_length)`,  where `vector_length` is an integer. However, if you are creating an array with more than one dimension, then you need `np.zeros(shape)`, where `shape` is a tuple of integers. Hence we have\n",
    "```\n",
    "A = np.zeros((2, 3))\n",
    "```\n",
    "To make this clear, some people would explicitly use a keyword argument\n",
    "```\n",
    "A = np.zeros(shape=(2, 3))\n",
    "```\n",
    "\n",
    "It is easy to make the mistake of writing\n",
    "```\n",
    "A = np.zeros(2, 3)\n",
    "```\n"
   ]
  },
  {
   "cell_type": "markdown",
   "metadata": {},
   "source": [
    "---\n",
    "It is very common to want to know the shape of an array. This is available using `.shape` "
   ]
  },
  {
   "cell_type": "code",
   "execution_count": 3,
   "metadata": {},
   "outputs": [
    {
     "name": "stdout",
     "output_type": "stream",
     "text": [
      "shape of v is: (3,)\n",
      "shape of A: (2, 3)\n"
     ]
    }
   ],
   "source": [
    "print(\"shape of v is:\", v.shape)\n",
    "print(\"shape of A:\", A.shape)         "
   ]
  },
  {
   "cell_type": "markdown",
   "metadata": {},
   "source": [
    "What are the shapes of B and Id ? Edit the above cell to print these shapes and verify your answer.\n",
    "\n",
    "---\n",
    "Use .ndim to determine the number of dimensions for an array"
   ]
  },
  {
   "cell_type": "code",
   "execution_count": 4,
   "metadata": {},
   "outputs": [
    {
     "name": "stdout",
     "output_type": "stream",
     "text": [
      "vector v has dimension 1\n",
      "matrix A has dimension 2\n"
     ]
    }
   ],
   "source": [
    "print(\"vector v has dimension\", v.ndim)\n",
    "print(\"matrix A has dimension\", A.ndim)"
   ]
  },
  {
   "cell_type": "markdown",
   "metadata": {},
   "source": [
    "---\n",
    "## Elementwise operations\n",
    "\n",
    "Recall that if you consider two vectors or two matrices with the same size and write `A * B`, Python will do an elementwise multiplication. For example"
   ]
  },
  {
   "cell_type": "code",
   "execution_count": 7,
   "metadata": {},
   "outputs": [
    {
     "name": "stdout",
     "output_type": "stream",
     "text": [
      "[[4. 2. 2. 2.]\n",
      " [2. 4. 2. 2.]\n",
      " [2. 2. 4. 2.]\n",
      " [2. 2. 2. 4.]]\n"
     ]
    }
   ],
   "source": [
    "C = np.ones((4,4))\n",
    "D = np.eye(4)\n",
    "\n",
    "E = 2 * (C + D)\n",
    "F = E * C\n",
    "print(F)"
   ]
  },
  {
   "cell_type": "markdown",
   "metadata": {},
   "source": [
    "---\n",
    "## Dot product and matrix product\n",
    "\n",
    "Since `*` performs elementwise multiplication a different symbol is used for vector and matrix multiplication. For the dot product between two vectors, or for matrix multiplication, the symbol `@`  is used as shown here"
   ]
  },
  {
   "cell_type": "code",
   "execution_count": 8,
   "metadata": {},
   "outputs": [
    {
     "name": "stdout",
     "output_type": "stream",
     "text": [
      "The scalar product of a and b is 7\n",
      "\n",
      "The matrix-vector product is \n",
      " [5 8]\n",
      "\n",
      "The matrix-matrix product is \n",
      " [[5 5]\n",
      " [8 8]]\n"
     ]
    }
   ],
   "source": [
    "# dot product\n",
    "a = np.array([1, 2, 3])\n",
    "b = np.array([2, 1, 1])\n",
    "\n",
    "print(\"The scalar product of a and b is\", a @ b) \n",
    "print()\n",
    "      \n",
    "A = np.array([[1, 2], [2, 3]])\n",
    "B = np.array([[1, 1], [2, 2]])\n",
    "x = [1, 2]\n",
    "\n",
    "# matrix-vector product\n",
    "print(\"The matrix-vector product is \\n\", A @ x)\n",
    "print()\n",
    "\n",
    "# matrix-matrix product\n",
    "print(\"The matrix-matrix product is \\n\", A @ B)\n"
   ]
  },
  {
   "cell_type": "markdown",
   "metadata": {},
   "source": [
    "---\n",
    "This notation provides a compact notation for indicating common linear algebra operations and it will be our preferred notation. \n",
    "\n",
    "You should know that the `@` operator is equivalent to calling the function `np.matmul`. For vectors and matrices, one can also call `np.dot` to produce the same result, as in the examples below."
   ]
  },
  {
   "cell_type": "code",
   "execution_count": 9,
   "metadata": {},
   "outputs": [
    {
     "name": "stdout",
     "output_type": "stream",
     "text": [
      "The scalar product of a and b is also 7\n",
      "The scalar product of a and b is also 7\n",
      "\n",
      "The matrix-matrix product is also \n",
      " [[5 5]\n",
      " [8 8]]\n",
      "The matrix-matrix product is also \n",
      " [[5 5]\n",
      " [8 8]]\n",
      "\n",
      "The matrix-vector product is: \n",
      " [5 8]\n",
      "The matrix-vector product is: \n",
      " [5 8]\n"
     ]
    }
   ],
   "source": [
    "# dot product\n",
    "print(\"The scalar product of a and b is also\", np.matmul(a,b))\n",
    "print(\"The scalar product of a and b is also\", np.dot(a,b)) \n",
    "print()\n",
    "\n",
    "# matrix-matrix product\n",
    "print(\"The matrix-matrix product is also \\n\", np.matmul(A,B))\n",
    "print(\"The matrix-matrix product is also \\n\", np.dot(A, B))\n",
    "print()\n",
    "\n",
    "# matrix-vector product\n",
    "print(\"The matrix-vector product is: \\n\", np.matmul(A,x))\n",
    "print(\"The matrix-vector product is: \\n\", np.dot(A,x))"
   ]
  },
  {
   "cell_type": "markdown",
   "metadata": {},
   "source": [
    "---\n",
    "\n",
    "In our examples we only use the simpler `@` notation for our vector and matrix operations.\n",
    "\n",
    "\n",
    "Note: `@` and `np.matmul` always mean exactly the same thing. For 1D and 2D arrays `np.dot` produces the same result as `@`. However, for higher dimensional arrays, `np.dot` and `@` behave differently. See the documentation on [np.matmul](https://numpy.org/doc/stable/reference/generated/numpy.matmul.html#numpy.matmul) and [np.dot](https://numpy.org/doc/stable/reference/generated/numpy.dot.html)."
   ]
  },
  {
   "cell_type": "markdown",
   "metadata": {},
   "source": [
    "---\n",
    "\n",
    "## NumPy Linear algebra\n",
    "\n",
    "\n",
    "NumPy provides linear algebra routines in [np.linalg](https://numpy.org/doc/stable/reference/routines.linalg.html). Here we provide a short list of the important ones for us:\n",
    "\n",
    "- linalg.det(A) - compute the determinant of A.\n",
    "\n",
    "- linalg.matrix_rank(A) - Compute the rank of A.\n",
    "\n",
    "- linalg.matrix_power(A, n) - Raise a square matrix to the (integer) power n. Equivalent to n uses of @: A @ A ... @ A. \n",
    "\n",
    "- linalg.eig(A) - Compute the eigenvalues and eigenvectors of A.\n",
    "\n",
    "- linalg.eigvals(A) - Compute only the eigenvalues of A.\n",
    "\n",
    "- linalg.inv(A) - Compute the inverse of A. "
   ]
  },
  {
   "cell_type": "markdown",
   "metadata": {},
   "source": [
    "---\n",
    "\n",
    "Example of using each of the above"
   ]
  },
  {
   "cell_type": "code",
   "execution_count": 10,
   "metadata": {},
   "outputs": [
    {
     "name": "stdout",
     "output_type": "stream",
     "text": [
      "-1.0\n",
      "2\n",
      "[[377 610]\n",
      " [610 987]]\n",
      "[-0.23606798  4.23606798]\n",
      "[-0.23606798  4.23606798]\n",
      "[[-3.  2.]\n",
      " [ 2. -1.]]\n"
     ]
    }
   ],
   "source": [
    "A = np.array([[1, 2], [2, 3]])\n",
    "B = np.array([[1, 1], [2, 2]])\n",
    "\n",
    "# determinant\n",
    "print(np.linalg.det(A))\n",
    "\n",
    "# rank\n",
    "print(np.linalg.matrix_rank(A))\n",
    "\n",
    "# matrix power\n",
    "C = np.linalg.matrix_power(A,5)\n",
    "print(C)\n",
    "\n",
    "# both eigenvalues and eigenvectors\n",
    "evals, evecs = np.linalg.eig(A)\n",
    "print(evals)\n",
    "\n",
    "# only eigenvalues\n",
    "evals = np.linalg.eigvals(A)\n",
    "print(evals)\n",
    "\n",
    "# matrix inverse\n",
    "A_inv = np.linalg.inv(A)\n",
    "print(A_inv)"
   ]
  },
  {
   "cell_type": "markdown",
   "metadata": {},
   "source": [
    "---\n",
    "**Exercise:** The last example computed `A_inv` the matrix inverse of `A`. In the cell below, verify that this inverse is correct by multiplying `A_inv` by `A` using `@`, and printing the result. "
   ]
  },
  {
   "cell_type": "code",
   "execution_count": 11,
   "metadata": {},
   "outputs": [
    {
     "name": "stdout",
     "output_type": "stream",
     "text": [
      "[[1. 0.]\n",
      " [0. 1.]]\n",
      "[[1. 0.]\n",
      " [0. 1.]]\n"
     ]
    }
   ],
   "source": [
    "print(A_inv@A)\n",
    "print(A@A_inv)"
   ]
  },
  {
   "cell_type": "markdown",
   "metadata": {},
   "source": [
    "**Exercise:** In the examples above, replace `A` by `B`. Before running the cell, think about what the determinant and rank of `B` are.  Note that an error will occur if you try to compute the inverse of `B`. You may want to try this to see the error, but then either comment out the `linalg.inv` line or put `A` back in."
   ]
  },
  {
   "cell_type": "code",
   "execution_count": null,
   "metadata": {},
   "outputs": [],
   "source": []
  },
  {
   "cell_type": "markdown",
   "metadata": {},
   "source": [
    "---\n",
    "\n",
    "### np.diag\n",
    "\n",
    "There is one more important NumPy function for creating matrices that we have not yet considered. `np.diag` creates a diagonal matrix out of a vector. It is best to look at examples"
   ]
  },
  {
   "cell_type": "code",
   "execution_count": 12,
   "metadata": {},
   "outputs": [
    {
     "name": "stdout",
     "output_type": "stream",
     "text": [
      "[[0 0 0 0 0]\n",
      " [0 1 0 0 0]\n",
      " [0 0 2 0 0]\n",
      " [0 0 0 3 0]\n",
      " [0 0 0 0 4]]\n"
     ]
    }
   ],
   "source": [
    "# create a 5x5 diagonal matrix \n",
    "v = np.arange(0,5,1)\n",
    "D = np.diag(v)\n",
    "print(D)"
   ]
  },
  {
   "cell_type": "markdown",
   "metadata": {},
   "source": [
    "---\n",
    "\n",
    "`np.diag` takes a second optional argument `k`. This controls the diagonal to be filled in. \n",
    "- k > 0 corresponds to super-diagonals, that is diagonals above the main diagonal. k=1 is the first super-diagonal.\n",
    "- k = 0 corresponds to the main diagonal. k=0 is the default. \n",
    "- k < 0 corresponds to sub-diagonals, that is diagonals below the main diagonal. k=-1 is the first sub-diagonal.\n",
    "\n",
    "The one important issue here is that the super-diagonal and sub-diagonals have fewer entries than the main diagonal.\n",
    "\n",
    "Here are some examples:"
   ]
  },
  {
   "cell_type": "code",
   "execution_count": 13,
   "metadata": {},
   "outputs": [
    {
     "name": "stdout",
     "output_type": "stream",
     "text": [
      "[[0 1 0 0 0]\n",
      " [0 0 2 0 0]\n",
      " [0 0 0 3 0]\n",
      " [0 0 0 0 4]\n",
      " [0 0 0 0 0]]\n",
      "[[ 0  0  0  0  0]\n",
      " [-4  0  0  0  0]\n",
      " [ 0 -3  0  0  0]\n",
      " [ 0  0 -2  0  0]\n",
      " [ 0  0  0 -1  0]]\n"
     ]
    }
   ],
   "source": [
    "# create a 5x5 matrix with 1 super-diagonal. \n",
    "v_plus = np.arange(1,5,1)\n",
    "D_plus = np.diag(v_plus, 1)\n",
    "print(D_plus)\n",
    "\n",
    "# create a 5x5 matrix with 1 sub-diagonal. \n",
    "v_minus = np.arange(-4,0,1)\n",
    "D_minus = np.diag(v_minus, -1)\n",
    "print(D_minus)"
   ]
  },
  {
   "cell_type": "markdown",
   "metadata": {},
   "source": [
    "It is common to combine these to create more interesting matrices. For example"
   ]
  },
  {
   "cell_type": "code",
   "execution_count": 14,
   "metadata": {},
   "outputs": [
    {
     "name": "stdout",
     "output_type": "stream",
     "text": [
      "[[ 1.  1.  0.  0.  0.]\n",
      " [-4.  1.  2.  0.  0.]\n",
      " [ 0. -3.  1.  3.  0.]\n",
      " [ 0.  0. -2.  1.  4.]\n",
      " [ 0.  0.  0. -1.  1.]]\n"
     ]
    }
   ],
   "source": [
    "# create a 5x5 matrix with a main diagonal, 1 super-diagonal and 1 sub-diagonal all at once\n",
    "D3 = np.eye(5) + np.diag(v_plus, 1) + np.diag(v_minus, -1)\n",
    "print(D3)"
   ]
  },
  {
   "cell_type": "markdown",
   "metadata": {},
   "source": [
    "### complex eigenvalues\n",
    "\n",
    "Finally, the eigenvalues of many matrices are complex. We have looked at complex numbers since the beginning of the module, so it is worth a quick review. The matrix `D3` created above has complex eigenvalues. The cell below computes and prints the eigenvalues of `D3`."
   ]
  },
  {
   "cell_type": "code",
   "execution_count": 15,
   "metadata": {},
   "outputs": [
    {
     "name": "stdout",
     "output_type": "stream",
     "text": [
      "[1.+4.j 1.-4.j 1.+0.j 1.+2.j 1.-2.j]\n"
     ]
    }
   ],
   "source": [
    "evals = np.linalg.eigvals(D3)\n",
    "print(evals)"
   ]
  },
  {
   "cell_type": "markdown",
   "metadata": {},
   "source": [
    "All the eigenvalues have the same real part, but different imaginary parts. Recall that `evals.real` gives the real part of `evals` and `evals.imag` gives the imaginary part. \n",
    "\n",
    "---\n",
    "\n",
    "The cell below plots the eigenvalues `evals` in the complex plane by plotting the real and imaginary parts of `evals`.  "
   ]
  },
  {
   "cell_type": "code",
   "execution_count": 16,
   "metadata": {},
   "outputs": [
    {
     "data": {
      "image/png": "[encoded data removed]",
      "text/plain": [
       "<Figure size 432x288 with 1 Axes>"
      ]
     },
     "metadata": {
      "needs_background": "light"
     },
     "output_type": "display_data"
    }
   ],
   "source": [
    "plt.scatter(evals.real, evals.imag)\n",
    "plt.xlabel(\"real part\")\n",
    "plt.ylabel(\"imaginary part\")\n",
    "plt.title(\"eigenvalues in complex plane\")\n",
    "plt.show()"
   ]
  },
  {
   "cell_type": "markdown",
   "metadata": {},
   "source": [
    "---\n",
    "# Exercises\n"
   ]
  },
  {
   "cell_type": "markdown",
   "metadata": {},
   "source": [
    "---\n",
    "\n",
    "1. In order, generate the following arrays\n",
    "\n",
    "- `x` the vector with elements `[1, 2, 3]`\n",
    "- `y` the vector with elements `[3, 2, 1]`\n",
    "- `c` the scalar given by the dot product $x \\cdot y$\n",
    "\n",
    "- `A` the 3x3 matrix of all ones.\n",
    "- `z` the vector given by the matrix-vector product $Ax$\n",
    "\n",
    "Print `c` and `z`. You should use `@` for the vector and matrix operations. "
   ]
  },
  {
   "cell_type": "code",
   "execution_count": null,
   "metadata": {},
   "outputs": [],
   "source": []
  },
  {
   "cell_type": "markdown",
   "metadata": {},
   "source": [
    "2. Create a $5 \\times 5$ matrix `M` consisting of all `+1` on the first super-diagonal and all `-1` on the first sub-diagonal.  Then put a `-1` in the top right corner and a `+1` in the bottom left corner. This matrix should look like this:\n",
    "\n",
    "$$\n",
    "M = \n",
    "\\begin{pmatrix}\n",
    "0 & 1 & 0 & 0 & -1 \\\\\n",
    "-1 & 0 & 1 & 0 & 0 \\\\\n",
    "0 & -1 & 0 & 1 & 0  \\\\\n",
    " 0 & 0 & -1 & 0 & 1 \\\\\n",
    "1 & 0 & 0 & -1 & 0 \n",
    "\\end{pmatrix}\n",
    "$$"
   ]
  },
  {
   "cell_type": "code",
   "execution_count": null,
   "metadata": {},
   "outputs": [],
   "source": []
  },
  {
   "cell_type": "markdown",
   "metadata": {},
   "source": [
    "3. Compute and plot the eigenvalues of $M$."
   ]
  },
  {
   "cell_type": "code",
   "execution_count": null,
   "metadata": {},
   "outputs": [],
   "source": []
  },
  {
   "cell_type": "markdown",
   "metadata": {},
   "source": [
    "---\n",
    "# Answers and Comments\n",
    "---\n",
    "\n",
    "Expand cells (click on left margin) to see answers and any comments.\n"
   ]
  },
  {
   "cell_type": "markdown",
   "metadata": {},
   "source": [
    "Q1 answer"
   ]
  },
  {
   "cell_type": "code",
   "execution_count": null,
   "metadata": {},
   "outputs": [],
   "source": [
    "# Q1 answer\n",
    "\n",
    "x = np.arange(1,4)\n",
    "y = np.arange(3,0,-1)\n",
    "c = x @ y\n",
    "A = np.ones(shape=(3,3))\n",
    "z = A @ x\n",
    "\n",
    "print(c)\n",
    "print(z)"
   ]
  },
  {
   "cell_type": "markdown",
   "metadata": {},
   "source": [
    "Q2 answer"
   ]
  },
  {
   "cell_type": "code",
   "execution_count": null,
   "metadata": {},
   "outputs": [],
   "source": [
    "# Q2 answer\n",
    "\n",
    "v = np.ones(4)\n",
    "M = np.diag(v,1) - np.diag(v,-1)\n",
    "M[0,4] = -1\n",
    "M[4,0] = 1\n",
    "print(M)"
   ]
  },
  {
   "cell_type": "markdown",
   "metadata": {},
   "source": [
    "Q3 answer"
   ]
  },
  {
   "cell_type": "code",
   "execution_count": null,
   "metadata": {},
   "outputs": [],
   "source": [
    "# Q3 answer\n",
    "\n",
    "evals = np.linalg.eigvals(M)\n",
    "\n",
    "plt.scatter(evals.real, evals.imag)\n",
    "plt.xlabel(\"real part\")\n",
    "plt.ylabel(\"imaginary part\")\n",
    "plt.title(\"eigenvalues in complex plane\")\n",
    "plt.show()\n"
   ]
  },
  {
   "cell_type": "markdown",
   "metadata": {},
   "source": [
    "---"
   ]
  }
 ],
 "metadata": {
  "kernelspec": {
   "display_name": "Python 3",
   "language": "python",
   "name": "python3"
  },
  "language_info": {
   "codemirror_mode": {
    "name": "ipython",
    "version": 3
   },
   "file_extension": ".py",
   "mimetype": "text/x-python",
   "name": "python",
   "nbconvert_exporter": "python",
   "pygments_lexer": "ipython3",
   "version": "3.8.5"
  }
 },
 "nbformat": 4,
 "nbformat_minor": 4
}
